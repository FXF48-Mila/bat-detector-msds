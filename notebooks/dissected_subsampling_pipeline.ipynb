{
 "cells": [
  {
   "cell_type": "markdown",
   "metadata": {},
   "source": [
    "# **Complete subsampling pipeline breakdown**"
   ]
  },
  {
   "cell_type": "markdown",
   "metadata": {},
   "source": [
    "## 1) Start with our imports:\n",
    "\n",
    "### The cell below contains the imports needed for `src/pipeline/pipeline.py`"
   ]
  },
  {
   "cell_type": "code",
   "execution_count": null,
   "metadata": {},
   "outputs": [],
   "source": [
    "import numpy as np\n",
    "import pandas as pd\n",
    "\n",
    "from pathlib import Path\n",
    "\n",
    "from torch import multiprocessing\n",
    "from tqdm import tqdm"
   ]
  },
  {
   "cell_type": "markdown",
   "metadata": {},
   "source": [
    "### The cell below contains the imports needed for `src/pipeline/audio_segmentor.py`"
   ]
  },
  {
   "cell_type": "code",
   "execution_count": null,
   "metadata": {},
   "outputs": [],
   "source": [
    "import os\n",
    "import soundfile as sf"
   ]
  },
  {
   "cell_type": "markdown",
   "metadata": {},
   "source": [
    "### The cell below contains the imports needed for `src/cli.py`"
   ]
  },
  {
   "cell_type": "code",
   "execution_count": null,
   "metadata": {},
   "outputs": [],
   "source": [
    "import sys\n",
    "\n",
    "# # append the path of the\n",
    "# # parent directory\n",
    "sys.path.append('..')\n",
    "sys.path.append('../src/')\n",
    "sys.path.append('../src/models/bat_call_detector/batdetect2/')\n",
    "\n",
    "import src.subsampling as ss"
   ]
  },
  {
   "cell_type": "markdown",
   "metadata": {},
   "source": [
    "## 2) Write any custom methods below:\n",
    "\n",
    "### Below method is the implementation of subsampling we used for generating detections used in the Symposium results\n",
    "#### a) How it works:\n",
    "##### &nbsp;&nbsp;&nbsp; i) Takes in segmented_file_paths from MSDS pipeline\n",
    "##### &nbsp;&nbsp;&nbsp; ii) Filters out segmented_file_paths generated from MSDS pipeline. \n",
    "##### &nbsp;&nbsp;&nbsp;&nbsp;&nbsp;&nbsp; - Removes paths that would not exist if the recorder incorporated duty cycling by using the `percent_on` and `cycle_length` parameters of duty cycle."
   ]
  },
  {
   "cell_type": "code",
   "execution_count": null,
   "metadata": {},
   "outputs": [],
   "source": [
    "def subsample_withpaths(segmented_file_paths, cfg, cycle_length, percent_on):\n",
    "    necessary_paths = []\n",
    "\n",
    "    for path in segmented_file_paths:\n",
    "        if (path['offset'] % cycle_length == 0 # Check if starting position is within recording period; won't need to check rest of boolean if it is\n",
    "            or ((path['offset']+cfg['segment_duration'])%cycle_length > 0 and (path['offset']+cfg['segment_duration'])%cycle_length <= int(cycle_length*percent_on))):\n",
    "            necessary_paths.append(path)\n",
    "\n",
    "    return necessary_paths"
   ]
  },
  {
   "cell_type": "markdown",
   "metadata": {},
   "source": [
    "## 3) Now we begin our actual dissection of the subsampling pipeline:\n",
    "\n",
    "### Let's start with an audio file to demonstrate how we used our `subsampling.py` script"
   ]
  },
  {
   "cell_type": "code",
   "execution_count": null,
   "metadata": {},
   "outputs": [],
   "source": [
    "filepath = f\"{Path.home()}/Documents/Research/Lab_related/example/original_recording\"\n",
    "filename = \"20210910_030000.WAV\""
   ]
  },
  {
   "cell_type": "markdown",
   "metadata": {},
   "source": [
    "### The below command is the command line invocation of the subsampling pipeline."
   ]
  },
  {
   "cell_type": "markdown",
   "metadata": {},
   "source": [
    "Command: `python src/subsampling.py ../Documents/Research/Lab_related/example/original_recording '5min_every_30min__Central_20210910_030000.csv' 'output_dir' 'output/tmp' 1800 0.167`\n",
    "\n",
    "- `../Documents/Research/Lab_related/example/original_recording` is the folder path that contains our recording. \n",
    "   - Our pipeline takes in a folder and generates detections for every recording in those folders\n",
    "- `5min_every_30min__Central_20210910_030000.csv` is the name of the output detections .csv.\n",
    "   - For multiple consecutive recordings, we've labelled the output file as \"...030000to130000.csv\"\n",
    "- `output_dir` is the repository folder where output detections .csv files will be saved.\n",
    "- `output/tmp` is the repository folder where generated segment recordings will be saved and deleted after detections have been generated.\n",
    "- `1800` is the provided cycle_length to generate duty cycled detections.\n",
    "- `0.167` is the provided percent_on to generate duty cycled detections."
   ]
  },
  {
   "cell_type": "markdown",
   "metadata": {},
   "source": [
    "### Calling the above command runs the following code:\n",
    "\n",
    "- `args = parse_args()`\n",
    "**Takes in the command line positional arguments**\n",
    "\n",
    "- `run_subsampling_pipeline(args['input_dir'], args['cycle_length'], args['percent_on'], args['csv_filename'], args['output_dir'], args['temp_dir'])`"
   ]
  },
  {
   "cell_type": "code",
   "execution_count": null,
   "metadata": {},
   "outputs": [],
   "source": [
    "def run_subsampling_pipeline(input_dir, cycle_length, percent_on, csv_name, output_dir, tmp_dir):\n",
    "    cfg = ss.get_params(output_dir, tmp_dir, 4, 30.0)\n",
    "    summer_audio_files = sorted(list(Path(input_dir).iterdir()))\n",
    "    segmented_file_paths = ss.generate_segmented_paths(summer_audio_files, cfg)\n",
    "    \n",
    "    ## Get file paths specific to our subsampling parameters\n",
    "    if (percent_on < 1.0):\n",
    "        necessary_paths = subsample_withpaths(segmented_file_paths, cfg, cycle_length, percent_on)\n",
    "    else:\n",
    "        necessary_paths = segmented_file_paths\n",
    "\n",
    "    file_path_mappings = ss.initialize_mappings(necessary_paths, cfg)\n",
    "    bd_dets = ss.run_models(file_path_mappings, cfg, csv_name)\n",
    "\n",
    "    return bd_dets"
   ]
  }
 ],
 "metadata": {
  "language_info": {
   "name": "python"
  },
  "orig_nbformat": 4
 },
 "nbformat": 4,
 "nbformat_minor": 2
}
