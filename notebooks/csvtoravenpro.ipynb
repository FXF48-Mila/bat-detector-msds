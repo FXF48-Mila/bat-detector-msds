{
 "cells": [
  {
   "cell_type": "code",
   "execution_count": 9,
   "metadata": {},
   "outputs": [],
   "source": [
    "import numpy as np\n",
    "import pandas as pd\n",
    "\n",
    "import scipy.io.wavfile as wav\n",
    "import matplotlib.pyplot as plt\n",
    "from pathlib import Path"
   ]
  },
  {
   "cell_type": "code",
   "execution_count": 10,
   "metadata": {},
   "outputs": [],
   "source": [
    "def msds2ravenpro(input_csv, output_txt):\n",
    "    df = pd.read_csv(input_csv)\n",
    "\n",
    "    sels = np.arange(df.shape[0])+1\n",
    "    view = []\n",
    "    for sel in sels:\n",
    "        view.append('Waveform 1')\n",
    "        view.append('Spectrogram 1')\n",
    "\n",
    "    rp_columns = ['Selection', 'Channel', 'Begin Time (s)', 'End Time (s)', 'Low Freq (Hz)', 'High Freq (Hz)', 'Detection Confidence', 'Event', 'Input File']\n",
    "    df.insert(loc = 0, column = rp_columns[1], value=np.ones(df.shape[0]).astype('int16')) # Channel Column\n",
    "    df.insert(loc = 0, column = rp_columns[0], value=np.arange(1, df.shape[0]+1)) # Selection Column\n",
    "\n",
    "    #define new DataFrame as original DataFrame with each row repeated 2 times\n",
    "    df = pd.DataFrame(np.repeat(df.values, 2, axis=0))\n",
    "    #assign column names of original DataFrame to new DataFrame\n",
    "    df.columns = rp_columns\n",
    "\n",
    "    df.insert(loc=1, column = 'View', value=view) # View column\n",
    "\n",
    "    df.to_csv(output_txt, header=True, index=None, sep='\\t', mode='a')\n",
    "\n",
    "def subsample(percent_on, audio):\n",
    "\n",
    "    time_on = percent_on*audio.shape[0]\n",
    "    audio[np.ceil(time_on).astype('int32'):] = 0\n",
    "\n",
    "    return audio.astype('int16')"
   ]
  },
  {
   "cell_type": "code",
   "execution_count": 12,
   "metadata": {},
   "outputs": [],
   "source": [
    "filename = '20210910_030000.WAV'\n",
    "csv_file = f'../output_dir/BatDetectorMSDS-{filename}.csv'\n",
    "output_txt = f'../output_dir/{filename}.txt'\n",
    "\n",
    "msds2ravenpro(csv_file, output_txt)"
   ]
  },
  {
   "cell_type": "code",
   "execution_count": 8,
   "metadata": {},
   "outputs": [],
   "source": [
    "p_ON = 0.5\n",
    "filepath = f\"{Path.home()}/Downloads\"\n",
    "\n",
    "fs, audio = wav.read(Path(f\"{filepath}/{filename}\"))\n",
    "wav.write(f'./{int(100*round(p_ON, 2))}_{filename}', fs, subsample(p_ON, audio))"
   ]
  },
  {
   "cell_type": "code",
   "execution_count": 14,
   "metadata": {},
   "outputs": [],
   "source": [
    "filename = f'{int(100*round(p_ON, 2))}_{filename}'\n",
    "csv_file = f'BatDetectorMSDS-{filename}.csv'\n",
    "output_txt = f'{filename}.txt'\n",
    "\n",
    "msds2ravenpro(csv_file, output_txt)"
   ]
  }
 ],
 "metadata": {
  "kernelspec": {
   "display_name": "Python 3",
   "language": "python",
   "name": "python3"
  },
  "language_info": {
   "codemirror_mode": {
    "name": "ipython",
    "version": 3
   },
   "file_extension": ".py",
   "mimetype": "text/x-python",
   "name": "python",
   "nbconvert_exporter": "python",
   "pygments_lexer": "ipython3",
   "version": "3.9.16"
  },
  "orig_nbformat": 4
 },
 "nbformat": 4,
 "nbformat_minor": 2
}
