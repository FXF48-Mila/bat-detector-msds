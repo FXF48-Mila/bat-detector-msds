{
 "cells": [
  {
   "cell_type": "code",
   "execution_count": 1,
   "metadata": {},
   "outputs": [],
   "source": [
    "import numpy as np\n",
    "import pandas as pd\n",
    "import soundfile as sf\n",
    "import datetime as dt\n",
    "from matplotlib.patches import Rectangle\n",
    "import matplotlib.pyplot as plt\n",
    "from pytz import timezone\n",
    "\n",
    "from pathlib import Path"
   ]
  },
  {
   "cell_type": "code",
   "execution_count": 2,
   "metadata": {},
   "outputs": [],
   "source": [
    "import sys\n",
    "\n",
    "# # append the path of the\n",
    "# # parent directory\n",
    "sys.path.append('..')\n",
    "sys.path.append('../src/')\n",
    "sys.path.append('../src/models/bat_call_detector/batdetect2/')"
   ]
  },
  {
   "cell_type": "code",
   "execution_count": 3,
   "metadata": {},
   "outputs": [],
   "source": [
    "import src.subsampling as ss\n",
    "\n",
    "from src.cfg import get_config\n",
    "from src.pipeline import pipeline"
   ]
  },
  {
   "cell_type": "code",
   "execution_count": 4,
   "metadata": {},
   "outputs": [],
   "source": [
    "input_dir = f'{Path.home()}/Documents/Research/Symposium/Recordings/recover-20220828/UBNA_010'\n",
    "summer_audio_files = sorted(list(Path(input_dir).iterdir()))\n",
    "date = \"20220826\"\n",
    "location = \"Central Pond\""
   ]
  },
  {
   "cell_type": "code",
   "execution_count": 5,
   "metadata": {},
   "outputs": [],
   "source": [
    "# ## Put together input parameters\n",
    "plot_file_path = summer_audio_files[3]\n",
    "plot_file = plot_file_path.name\n",
    "plot_file_path\n",
    "offset = 1800\n",
    "plt.rcParams.update({'font.size': 18})"
   ]
  },
  {
   "cell_type": "code",
   "execution_count": 6,
   "metadata": {},
   "outputs": [],
   "source": [
    "audio_file = sf.SoundFile(plot_file_path)\n",
    "fs = audio_file.samplerate\n",
    "reftimes = np.array([0, 1800])\n",
    "times = np.array([0, reftimes[1] - reftimes[0]])\n",
    "audio_file.seek(int(reftimes[0]*fs))\n",
    "audio_sec = audio_file.read(int((reftimes[1] - reftimes[0])*fs))"
   ]
  },
  {
   "cell_type": "code",
   "execution_count": 7,
   "metadata": {},
   "outputs": [
    {
     "ename": "",
     "evalue": "",
     "output_type": "error",
     "traceback": [
      "\u001b[1;31mCanceled future for execute_request message before replies were done"
     ]
    },
    {
     "ename": "",
     "evalue": "",
     "output_type": "error",
     "traceback": [
      "\u001b[1;31mThe Kernel crashed while executing code in the the current cell or a previous cell. Please review the code in the cell(s) to identify a possible cause of the failure. Click <a href='https://aka.ms/vscodeJupyterKernelCrash'>here</a> for more info. View Jupyter <a href='command:jupyter.viewOutput'>log</a> for further details."
     ]
    }
   ],
   "source": [
    "## Plot detections on audio\n",
    "# Read in only section of audio with reftimes\n",
    "# Zoom into section of audio with times\n",
    "\n",
    "cycle_length = 1800\n",
    "percent_on = 1.0\n",
    "c_dets = pd.read_csv(f\"../output_dir/continuous__{location.split()[0]}_{date}_030000to130000.csv\")\n",
    "plot_dets = c_dets[c_dets['input_file']==plot_file]\n",
    "ss.plt_msds_fromdf(location, plot_file, plot_dets, audio_sec, fs, offset, reftimes, times, cycle_length, percent_on, be_subplot=False, show_PST=True, show_legend=True, show_threshold=False, lf_threshold=45000, hf_threshold=35000, show_num_dets=False, det_linewidth=1, show_audio=True, show_spectrogram=True, spec_cmap='ocean', rm_dB=220, save=False)"
   ]
  }
 ],
 "metadata": {
  "kernelspec": {
   "display_name": "bat_msds",
   "language": "python",
   "name": "python3"
  },
  "language_info": {
   "codemirror_mode": {
    "name": "ipython",
    "version": 3
   },
   "file_extension": ".py",
   "mimetype": "text/x-python",
   "name": "python",
   "nbconvert_exporter": "python",
   "pygments_lexer": "ipython3",
   "version": "3.9.16"
  },
  "orig_nbformat": 4
 },
 "nbformat": 4,
 "nbformat_minor": 2
}
