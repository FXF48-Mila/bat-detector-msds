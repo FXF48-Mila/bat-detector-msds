{
 "cells": [
  {
   "attachments": {},
   "cell_type": "markdown",
   "metadata": {},
   "source": [
    "# Testing batdetect2 pipeline features:\n",
    "\n",
    "## **Working on features relevant to the use of this pipeline on recovered Audiomoth .wav recordings**"
   ]
  },
  {
   "attachments": {},
   "cell_type": "markdown",
   "metadata": {},
   "source": [
    "## 1) Figuring out our imports:"
   ]
  },
  {
   "attachments": {},
   "cell_type": "markdown",
   "metadata": {},
   "source": [
    "### a) Below are the imports pertaining to accessing data and metadata"
   ]
  },
  {
   "cell_type": "code",
   "execution_count": 42,
   "metadata": {},
   "outputs": [],
   "source": [
    "from pathlib import Path\n",
    "import exiftool"
   ]
  },
  {
   "attachments": {},
   "cell_type": "markdown",
   "metadata": {},
   "source": [
    "### b) Below are the imports pertaining to data manipulation"
   ]
  },
  {
   "cell_type": "code",
   "execution_count": 43,
   "metadata": {},
   "outputs": [],
   "source": [
    "import numpy as np\n",
    "import pandas as pd"
   ]
  },
  {
   "attachments": {},
   "cell_type": "markdown",
   "metadata": {},
   "source": [
    "### c) Below are the imports pertaining to data visualization"
   ]
  },
  {
   "cell_type": "code",
   "execution_count": 44,
   "metadata": {},
   "outputs": [],
   "source": [
    "import matplotlib.pyplot as plt\n",
    "from matplotlib import colors\n",
    "import datetime as dt"
   ]
  },
  {
   "attachments": {},
   "cell_type": "markdown",
   "metadata": {},
   "source": [
    "### d) Below are the imports pertaining to the use of the MSDS pipeline"
   ]
  },
  {
   "cell_type": "code",
   "execution_count": 45,
   "metadata": {},
   "outputs": [],
   "source": [
    "import sys\n",
    "\n",
    "# append the path of the\n",
    "# parent directory\n",
    "sys.path.append('..')\n",
    "sys.path.append('../src/')\n",
    "sys.path.append('../src/models/bat_call_detector/batdetect2/')\n",
    "\n",
    "from src.cfg import get_config\n",
    "from src.pipeline import pipeline\n",
    "import src.batdt2_pipeline as batdetect2_pipeline"
   ]
  },
  {
   "attachments": {},
   "cell_type": "markdown",
   "metadata": {},
   "source": [
    "## 2) Initializing our required variables:"
   ]
  },
  {
   "attachments": {},
   "cell_type": "markdown",
   "metadata": {},
   "source": [
    "### a) Below we initialize our input/output directories and output pipeline csv name"
   ]
  },
  {
   "cell_type": "code",
   "execution_count": 46,
   "metadata": {},
   "outputs": [
    {
     "data": {
      "text/plain": [
       "['/Users/adityakrishna/Documents/Research/Symposium/Recordings/recover-20220828/UBNA_010',\n",
       " '../output_dir/recover-20220828/UBNA_010',\n",
       " 'batdetect2_pipeline__recover-20220828_UBNA_010']"
      ]
     },
     "execution_count": 46,
     "metadata": {},
     "output_type": "execute_result"
    }
   ],
   "source": [
    "dirpath = f\"{Path.home()}/Documents/Research/Symposium/Recordings/recover-20220828/UBNA_010\"\n",
    "\n",
    "recover_folder = dirpath.split('/')[-2]\n",
    "recover_date = recover_folder.split('-')[1]\n",
    "audiomoth_folder = dirpath.split('/')[-1]\n",
    "audiomoth_unit = audiomoth_folder.split('_')[-1]\n",
    "\n",
    "save_dir = f'../output_dir/{recover_folder}/{audiomoth_folder}'\n",
    "detfile_name = f'batdetect2_pipeline__{recover_folder}_{audiomoth_folder}'\n",
    "\n",
    "[dirpath, save_dir, detfile_name]"
   ]
  },
  {
   "attachments": {},
   "cell_type": "markdown",
   "metadata": {},
   "source": [
    "### b) Below we initialize our field records depending on what year our data is from to gather the site name"
   ]
  },
  {
   "cell_type": "code",
   "execution_count": 47,
   "metadata": {},
   "outputs": [
    {
     "data": {
      "text/plain": [
       "'Central Pond'"
      ]
     },
     "execution_count": 47,
     "metadata": {},
     "output_type": "execute_result"
    }
   ],
   "source": [
    "if str(dt.datetime.strptime(recover_date, \"%Y%m%d\").year) == \"2022\":\n",
    "    field_records = batdetect2_pipeline.get_field_records(Path(f\"{Path.home()}/bat-detector-msds/notebooks/ubna_2022b.csv\"))\n",
    "if str(dt.datetime.strptime(recover_date, \"%Y%m%d\").year) == \"2023\":\n",
    "    field_records = batdetect2_pipeline.get_field_records(Path(f\"{Path.home()}/bat-detector-msds/notebooks/ubna_2023.csv\"))\n",
    "\n",
    "site_name = batdetect2_pipeline.get_site_name(field_records, recover_date, audiomoth_unit)\n",
    "site_name"
   ]
  },
  {
   "attachments": {},
   "cell_type": "markdown",
   "metadata": {},
   "source": [
    "## 3) Test any main pipeline functions using the initialized variables"
   ]
  },
  {
   "attachments": {},
   "cell_type": "markdown",
   "metadata": {},
   "source": [
    "### a) Below we test-run our pipeline using the main `run_pipeline()` command in `src/batdt2_pipeline.py`"
   ]
  },
  {
   "cell_type": "code",
   "execution_count": 48,
   "metadata": {},
   "outputs": [],
   "source": [
    "## Each file in directory has own set of detections from 0 to file_length\n",
    "## Audio file corresponding to any detection is stored in .csv output's 'input_file' column\n",
    "\n",
    "# batdetect2_pipeline.run_pipeline(dirpath, f\"{detfile_name}.csv\", save_dir, f'../output/tmp')"
   ]
  },
  {
   "attachments": {},
   "cell_type": "markdown",
   "metadata": {},
   "source": [
    "### b) Below is the function that will be used in our pipeline to plot the activity plots; Use it to test the overall function"
   ]
  },
  {
   "cell_type": "code",
   "execution_count": 49,
   "metadata": {},
   "outputs": [],
   "source": [
    "# batdetect2_pipeline.plot_dets_as_activity_grid(dirpath, f\"{detfile_name}.csv\", save_dir, site_name, show_PST=True, save=False)"
   ]
  },
  {
   "attachments": {},
   "cell_type": "markdown",
   "metadata": {},
   "source": [
    "## 4) Develop any of the main functions below:"
   ]
  },
  {
   "attachments": {},
   "cell_type": "markdown",
   "metadata": {},
   "source": [
    "### a) Below is the code for plotting activity; it has been developed to include:\n",
    "\n",
    "- PST functionality with axis labels for UTC/PST\n",
    "- Plotting site name in title of activity\n",
    "- Aligning ticks and grid lines to feel intuitive"
   ]
  },
  {
   "cell_type": "code",
   "execution_count": 97,
   "metadata": {},
   "outputs": [
    {
     "name": "stdout",
     "output_type": "stream",
     "text": [
      "[[   0.]\n",
      " [ 418.]\n",
      " [ 677.]\n",
      " [4900.]\n",
      " [1367.]\n",
      " [3178.]\n",
      " [3670.]\n",
      " [2631.]\n",
      " [1597.]\n",
      " [1060.]\n",
      " [ 638.]\n",
      " [ 897.]\n",
      " [  51.]\n",
      " [2534.]\n",
      " [6988.]\n",
      " [  57.]\n",
      " [ 116.]\n",
      " [  94.]\n",
      " [  13.]\n",
      " [   0.]\n",
      " [   0.]]\n"
     ]
    },
    {
     "data": {
      "image/png": "[encoded data removed]",
      "text/plain": [
       "<Figure size 1200x800 with 2 Axes>"
      ]
     },
     "metadata": {},
     "output_type": "display_data"
    }
   ],
   "source": [
    "recover_folder = dirpath.split('/')[-2]\n",
    "audiomoth_folder = dirpath.split('/')[-1]\n",
    "dets = pd.read_csv(f'{save_dir}/{detfile_name}.csv')\n",
    "activity = np.array([])\n",
    "show_PST = False\n",
    "activity_times = []\n",
    "activity_dates = []\n",
    "\n",
    "for file in batdetect2_pipeline.get_files_from_dir(dirpath):\n",
    "    filedets = dets.loc[dets['input_file']==Path(file).name]\n",
    "    activity = np.hstack([activity, len(filedets)])\n",
    "\n",
    "    file_dt_UTC = dt.datetime.strptime(Path(file).name, \"%Y%m%d_%H%M%S.WAV\")\n",
    "\n",
    "    if show_PST:\n",
    "        if (file_dt_UTC.hour >= 7):\n",
    "            file_dt_PST = dt.datetime.strptime(f\"{file_dt_UTC.date()}_{str(file_dt_UTC.hour - 7).zfill(2)}{file_dt_UTC.minute}\", \"%Y-%m-%d_%H%M\")\n",
    "            file_time_PST = dt.datetime.strftime(file_dt_PST, \"%H:%M\")\n",
    "        else:\n",
    "            file_dt_PST = dt.datetime.strptime(f\"{file_dt_UTC.date()}_{str(24 + file_dt_UTC.hour - 7).zfill(2)}{file_dt_UTC.minute}\", \"%Y-%m-%d_%H%M\")\n",
    "            file_time_PST = dt.datetime.strftime(file_dt_PST, \"%H:%M\")\n",
    "        if (not(activity_times.__contains__(file_time_PST))):\n",
    "            activity_times.append(file_time_PST)\n",
    "    else:\n",
    "        file_time_UTC = dt.datetime.strftime(file_dt_UTC, \"%H:%M\")\n",
    "        if (not(activity_times.__contains__(file_time_UTC))):\n",
    "            activity_times.append(file_time_UTC)\n",
    "\n",
    "    file_date = dt.datetime.strftime(file_dt_UTC, \"%m/%d/%y\")\n",
    "    if (not(activity_dates.__contains__(file_date))):\n",
    "        activity_dates.append(file_date)\n",
    "\n",
    "activity = activity.reshape((len(activity_dates), len(activity_times))).T\n",
    "\n",
    "masked_array_for_nodets = np.ma.masked_where(activity == 0, activity)\n",
    "cmap = plt.get_cmap('viridis')\n",
    "cmap.set_bad(color='red', alpha=1.0)\n",
    "\n",
    "print(activity)\n",
    "\n",
    "plt.rcParams.update({'font.size': 16})\n",
    "plt.figure(figsize=(12, 8))\n",
    "plt.title(f\"Activity from {site_name}\", loc='left', y=1.05)\n",
    "plt.imshow(masked_array_for_nodets, cmap=cmap, norm=colors.LogNorm(vmin=1, vmax=10e3))\n",
    "plt.yticks(np.arange(0, len(activity_times), 2)-0.5, activity_times[::2], rotation=30)\n",
    "plt.xticks(np.arange(0, len(activity_dates))-0.5, activity_dates, rotation=30)\n",
    "plt.ylabel('UTC Time (HH:MM)')\n",
    "plt.xlabel('Date (MM/DD/YY)')\n",
    "plt.colorbar()\n",
    "plt.tight_layout()\n",
    "plt.show()"
   ]
  },
  {
   "attachments": {},
   "cell_type": "markdown",
   "metadata": {},
   "source": [
    "### b) Below is the code for using exiftool to skip error files in our pipeline\n",
    "\n",
    "- Starting to learn how to use exiftool or PyExifTool \n",
    "- Implementing checks for error files using Audiomoth .wav metadata\n",
    "- Incorporating checks into generate_segments() function so pipeline only generates segments for valid recordings"
   ]
  },
  {
   "attachments": {},
   "cell_type": "markdown",
   "metadata": {},
   "source": [
    "#### Initialize the set of test files we need to analyze\n",
    "\n",
    "- Some of them will be error files\n",
    "- Some of them will be usable files"
   ]
  },
  {
   "cell_type": "code",
   "execution_count": 10,
   "metadata": {},
   "outputs": [
    {
     "data": {
      "text/plain": [
       "[PosixPath('/Users/adityakrishna/Documents/Research/Recordings/2023_recording_season/error_files/recover-20230616/UBNA_001/20230610_030000.WAV'),\n",
       " PosixPath('/Users/adityakrishna/Documents/Research/Recordings/2023_recording_season/error_files/recover-20230616/UBNA_001/20230610_053000.WAV'),\n",
       " PosixPath('/Users/adityakrishna/Documents/Research/Recordings/2023_recording_season/error_files/recover-20230616/UBNA_001/20230610_060000.WAV'),\n",
       " PosixPath('/Users/adityakrishna/Documents/Research/Recordings/2023_recording_season/error_files/recover-20230616/UBNA_001/20230610_063000.WAV'),\n",
       " PosixPath('/Users/adityakrishna/Documents/Research/Recordings/2023_recording_season/error_files/recover-20230616/UBNA_001/20230610_090000.WAV')]"
      ]
     },
     "execution_count": 10,
     "metadata": {},
     "output_type": "execute_result"
    }
   ],
   "source": [
    "dirpath = f\"{Path.home()}/Documents/Research/Recordings/2023_recording_season/error_files/recover-20230616/UBNA_001\"\n",
    "files = batdetect2_pipeline.get_files_from_dir(dirpath)\n",
    "files"
   ]
  },
  {
   "attachments": {},
   "cell_type": "markdown",
   "metadata": {},
   "source": [
    "#### Print the metadata of a single Audiomoth recording"
   ]
  },
  {
   "cell_type": "code",
   "execution_count": 13,
   "metadata": {},
   "outputs": [
    {
     "data": {
      "text/plain": [
       "{'SourceFile': '/Users/adityakrishna/Documents/Research/Recordings/2023_recording_season/error_files/recover-20230616/UBNA_001/20230610_090000.WAV',\n",
       " 'ExifTool:ExifToolVersion': 12.63,\n",
       " 'File:FileName': '20230610_090000.WAV',\n",
       " 'File:Directory': '/Users/adityakrishna/Documents/Research/Recordings/2023_recording_season/error_files/recover-20230616/UBNA_001',\n",
       " 'File:FileSize': 689280488,\n",
       " 'File:FileModifyDate': '2023:06:10 14:59:54+05:30',\n",
       " 'File:FileAccessDate': '2023:06:23 19:09:22+05:30',\n",
       " 'File:FileInodeChangeDate': '2023:06:23 19:09:22+05:30',\n",
       " 'File:FilePermissions': 100644,\n",
       " 'File:FileType': 'WAV',\n",
       " 'File:FileTypeExtension': 'WAV',\n",
       " 'File:MIMEType': 'audio/x-wav',\n",
       " 'RIFF:Encoding': 1,\n",
       " 'RIFF:NumChannels': 1,\n",
       " 'RIFF:SampleRate': 192000,\n",
       " 'RIFF:AvgBytesPerSec': 384000,\n",
       " 'RIFF:BitsPerSample': 16,\n",
       " 'RIFF:Comment': 'Recorded at 09:00:00 10/06/2023 (UTC) by AudioMoth 24F319055FDF2F5B at medium gain while battery was 4.0V and temperature was 13.9C.',\n",
       " 'RIFF:Artist': 'AudioMoth 24F319055FDF2F5B',\n",
       " 'Composite:Duration': 1795.00127083333}"
      ]
     },
     "execution_count": 13,
     "metadata": {},
     "output_type": "execute_result"
    }
   ],
   "source": [
    "exiftool.ExifToolHelper().get_metadata(files)[4]"
   ]
  },
  {
   "attachments": {},
   "cell_type": "markdown",
   "metadata": {},
   "source": [
    "The RIFF:Comment tag seems important and unique to each error file.\n",
    "\n",
    "- 488-byte ones say the recording was stopped because of microphone change.\n",
    "- Standard size ones with unusable data say the recording was made using an external microphone.\n",
    "- Standard size ones with usuable data have no mention of a microphone."
   ]
  },
  {
   "attachments": {},
   "cell_type": "markdown",
   "metadata": {},
   "source": [
    "#### So let's look for NO mention of a \"mircophone\" in the RIFF:Comment and filter our files based on this."
   ]
  },
  {
   "cell_type": "code",
   "execution_count": 40,
   "metadata": {},
   "outputs": [
    {
     "data": {
      "text/plain": [
       "[PosixPath('/Users/adityakrishna/Documents/Research/Recordings/2023_recording_season/error_files/recover-20230616/UBNA_001/20230610_090000.WAV')]"
      ]
     },
     "execution_count": 40,
     "metadata": {},
     "output_type": "execute_result"
    }
   ],
   "source": [
    "good_files=[]\n",
    "for file in files:\n",
    "    comments = exiftool.ExifToolHelper().get_tags(file, tags='RIFF:Comment')\n",
    "    if (not(\"microphone\" in comments[0]['RIFF:Comment'])):\n",
    "        good_files.append(Path(comments[0]['SourceFile']))\n",
    "\n",
    "good_files\n",
    "# 'RIFF:Comment'\n",
    "# df_comments = pd.DataFrame(comments)\n",
    "# good_files = df_comments.loc[~df_comments['RIFF:Comment'].str.contains(\"microphone\")]['SourceFile'].values\n",
    "# good_files"
   ]
  },
  {
   "attachments": {},
   "cell_type": "markdown",
   "metadata": {},
   "source": [
    "#### Our filter worked and our pipeline ran on the good_files of `recover-20230616/UBNA_001` with no error\n",
    "\n",
    "### Now we need to make changes in our plotting to plot data generated from error sessions"
   ]
  },
  {
   "attachments": {},
   "cell_type": "markdown",
   "metadata": {},
   "source": [
    "#### 1) Import `recover-20230616_UBNA_001 detections"
   ]
  },
  {
   "cell_type": "code",
   "execution_count": 29,
   "metadata": {},
   "outputs": [
    {
     "data": {
      "text/plain": [
       "['030000',\n",
       " '043000',\n",
       " '050000',\n",
       " '053000',\n",
       " '060000',\n",
       " '063000',\n",
       " '070000',\n",
       " '073000',\n",
       " '080000',\n",
       " '083000',\n",
       " '090000',\n",
       " '093000',\n",
       " '100000',\n",
       " '103000',\n",
       " '110000',\n",
       " '130000']"
      ]
     },
     "execution_count": 29,
     "metadata": {},
     "output_type": "execute_result"
    }
   ],
   "source": [
    "dirpath = f\"{Path.home()}/Documents/Research/Symposium/Recordings/recover-20230616/UBNA_001\"\n",
    "\n",
    "recover_folder = dirpath.split('/')[-2]\n",
    "recover_date = recover_folder.split('-')[1]\n",
    "audiomoth_folder = dirpath.split('/')[-1]\n",
    "audiomoth_unit = audiomoth_folder.split('_')[-1]\n",
    "\n",
    "save_dir = f'../output_dir/{recover_folder}/{audiomoth_folder}'\n",
    "detfile_name = f'batdetect2_pipeline__{recover_folder}_{audiomoth_folder}'\n",
    "\n",
    "[dirpath, save_dir, detfile_name]\n",
    "\n",
    "dets = pd.read_csv(f'{save_dir}/{detfile_name}.csv')\n",
    "det_times = []\n",
    "for file in get_files_from_dir(dirpath):\n",
    "    file_dt = dt.datetime.strptime(file.name, \"%Y%m%d_%H%M%S.WAV\")\n",
    "    file_time = dt.datetime.strftime(file_dt, \"%H%M%S\")\n",
    "    if (not(det_times.__contains__(file_time))):\n",
    "        det_times.append(file_time)\n",
    "print(sorted(det_times))\n",
    "\n"
   ]
  },
  {
   "cell_type": "code",
   "execution_count": null,
   "metadata": {},
   "outputs": [],
   "source": [
    "recover_folder = dirpath.split('/')[-2]\n",
    "audiomoth_folder = dirpath.split('/')[-1]\n",
    "dets = pd.read_csv(f'{save_dir}/{detfile_name}.csv')\n",
    "activity = np.array([])\n",
    "show_PST = False\n",
    "activity_times = []\n",
    "activity_dates = []\n",
    "\n",
    "for file in batdetect2_pipeline.get_files_from_dir(dirpath):\n",
    "    filedets = dets.loc[dets['input_file']==Path(file).name]\n",
    "    activity = np.hstack([activity, len(filedets)])\n",
    "\n",
    "    file_dt_UTC = dt.datetime.strptime(Path(file).name, \"%Y%m%d_%H%M%S.WAV\")\n",
    "\n",
    "    if show_PST:\n",
    "        if (file_dt_UTC.hour >= 7):\n",
    "            file_dt_PST = dt.datetime.strptime(f\"{file_dt_UTC.date()}_{str(file_dt_UTC.hour - 7).zfill(2)}{file_dt_UTC.minute}\", \"%Y-%m-%d_%H%M\")\n",
    "            file_time_PST = dt.datetime.strftime(file_dt_PST, \"%H:%M\")\n",
    "        else:\n",
    "            file_dt_PST = dt.datetime.strptime(f\"{file_dt_UTC.date()}_{str(24 + file_dt_UTC.hour - 7).zfill(2)}{file_dt_UTC.minute}\", \"%Y-%m-%d_%H%M\")\n",
    "            file_time_PST = dt.datetime.strftime(file_dt_PST, \"%H:%M\")\n",
    "        if (not(activity_times.__contains__(file_time_PST))):\n",
    "            activity_times.append(file_time_PST)\n",
    "    else:\n",
    "        file_time_UTC = dt.datetime.strftime(file_dt_UTC, \"%H:%M\")\n",
    "        if (not(activity_times.__contains__(file_time_UTC))):\n",
    "            activity_times.append(file_time_UTC)\n",
    "\n",
    "    file_date = dt.datetime.strftime(file_dt_UTC, \"%m/%d/%y\")\n",
    "    if (not(activity_dates.__contains__(file_date))):\n",
    "        activity_dates.append(file_date)\n",
    "\n",
    "activity = activity.reshape((len(activity_dates), len(activity_times))).T\n",
    "\n",
    "plt.rcParams.update({'font.size': 16})\n",
    "plt.figure(figsize=(12, 8))\n",
    "plt.title(f\"Activity from {site_name}\", loc='left', y=1.05)\n",
    "plt.imshow(activity+1, norm=colors.LogNorm(vmin=1, vmax=10e3))\n",
    "plt.yticks(np.arange(0, len(activity_times), 2)-0.5, activity_times[::2], rotation=30)\n",
    "plt.xticks(np.arange(0, len(activity_dates))-0.5, activity_dates, rotation=30)\n",
    "plt.ylabel('UTC Time (HH:MM)')\n",
    "plt.xlabel('Date (MM/DD/YY)')\n",
    "plt.colorbar()\n",
    "plt.tight_layout()\n",
    "plt.show()"
   ]
  }
 ],
 "metadata": {
  "kernelspec": {
   "display_name": "bat_msds",
   "language": "python",
   "name": "python3"
  },
  "language_info": {
   "codemirror_mode": {
    "name": "ipython",
    "version": 3
   },
   "file_extension": ".py",
   "mimetype": "text/x-python",
   "name": "python",
   "nbconvert_exporter": "python",
   "pygments_lexer": "ipython3",
   "version": "3.9.16"
  },
  "orig_nbformat": 4
 },
 "nbformat": 4,
 "nbformat_minor": 2
}
