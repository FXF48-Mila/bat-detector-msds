{
 "cells": [
  {
   "cell_type": "code",
   "execution_count": 1,
   "metadata": {},
   "outputs": [],
   "source": [
    "import numpy as np\n",
    "import os\n",
    "import pandas as pd\n",
    "import soundfile as sf\n",
    "\n",
    "import matplotlib.pyplot as plt\n",
    "import matplotlib.ticker as tick\n",
    "from matplotlib import colors\n",
    "from matplotlib.patches import Rectangle\n",
    "\n",
    "import scipy.io.wavfile as wav\n",
    "import datetime as dt\n",
    "from pathlib import Path\n",
    "\n",
    "from torch import multiprocessing\n",
    "from tqdm import tqdm"
   ]
  },
  {
   "cell_type": "code",
   "execution_count": 2,
   "metadata": {},
   "outputs": [],
   "source": [
    "import sys\n",
    "\n",
    "# append the path of the\n",
    "# parent directory\n",
    "sys.path.append('..')\n",
    "sys.path.append('../src/')\n",
    "sys.path.append('../src/models/bat_call_detector/batdetect2/')"
   ]
  },
  {
   "cell_type": "code",
   "execution_count": 3,
   "metadata": {},
   "outputs": [],
   "source": [
    "from src.cfg import get_config\n",
    "from src.pipeline import pipeline\n",
    "import src.batdt2_pipeline as batdetect2_pipeline"
   ]
  },
  {
   "cell_type": "code",
   "execution_count": 4,
   "metadata": {},
   "outputs": [
    {
     "data": {
      "text/plain": [
       "['/Users/adityakrishna/Documents/UBNA/Symposium/Recordings/recover-20230605/UBNA_001',\n",
       " '../output_dir/recover-20230605/UBNA_001',\n",
       " 'batdetect2_pipeline__recover-20230605_UBNA_001']"
      ]
     },
     "execution_count": 4,
     "metadata": {},
     "output_type": "execute_result"
    }
   ],
   "source": [
    "dirpath = f\"{Path.home()}/Documents/UBNA/Symposium/Recordings/recover-20230605/UBNA_001\"\n",
    "\n",
    "recover_folder = dirpath.split('/')[-2]\n",
    "recover_date = recover_folder.split('-')[1]\n",
    "audiomoth_folder = dirpath.split('/')[-1]\n",
    "audiomoth_unit = audiomoth_folder.split('_')[-1]\n",
    "\n",
    "save_dir = f'../output_dir/{recover_folder}/{audiomoth_folder}'\n",
    "detfile_name = f'batdetect2_pipeline__{recover_folder}_{audiomoth_folder}'\n",
    "\n",
    "[dirpath, save_dir, detfile_name]"
   ]
  },
  {
   "cell_type": "code",
   "execution_count": 11,
   "metadata": {},
   "outputs": [],
   "source": [
    "## Each file in directory has own set of detections from 0 to file_length\n",
    "## Audio file corresponding to any detection is stored in .csv output's 'input_file' column\n",
    "\n",
    "# batdetect2_pipeline.run_pipeline(dirpath, f\"{detfile_name}.csv\", save_dir, f'../output/tmp')"
   ]
  },
  {
   "cell_type": "code",
   "execution_count": 6,
   "metadata": {},
   "outputs": [],
   "source": [
    "field_records = batdetect2_pipeline.get_field_records(Path(\"ubna_2022b.csv\"))\n",
    "site_name = batdetect2_pipeline.get_site_name(field_records, recover_date, audiomoth_unit)\n",
    "# batdetect2_pipeline.plot_dets_as_activity_grid(dirpath, detfile_name, save_dir, site_name)"
   ]
  },
  {
   "cell_type": "code",
   "execution_count": 11,
   "metadata": {},
   "outputs": [
    {
     "data": {
      "text/plain": [
       "array(['20230531_043000.WAV', '20230531_050000.WAV',\n",
       "       '20230531_053000.WAV', '20230531_060000.WAV',\n",
       "       '20230531_063000.WAV', '20230531_070000.WAV',\n",
       "       '20230531_073000.WAV', '20230531_080000.WAV',\n",
       "       '20230531_083000.WAV', '20230531_090000.WAV',\n",
       "       '20230531_093000.WAV', '20230531_100000.WAV',\n",
       "       '20230531_103000.WAV', '20230531_110000.WAV',\n",
       "       '20230531_113000.WAV', '20230601_043000.WAV',\n",
       "       '20230601_050000.WAV', '20230601_053000.WAV',\n",
       "       '20230601_060000.WAV', '20230601_063000.WAV',\n",
       "       '20230601_070000.WAV', '20230601_073000.WAV',\n",
       "       '20230601_080000.WAV', '20230601_083000.WAV',\n",
       "       '20230601_090000.WAV', '20230601_093000.WAV',\n",
       "       '20230601_100000.WAV', '20230601_103000.WAV',\n",
       "       '20230601_110000.WAV', '20230601_113000.WAV',\n",
       "       '20230602_043000.WAV', '20230602_050000.WAV',\n",
       "       '20230602_053000.WAV', '20230602_060000.WAV',\n",
       "       '20230602_063000.WAV', '20230602_070000.WAV',\n",
       "       '20230602_073000.WAV', '20230602_080000.WAV',\n",
       "       '20230602_083000.WAV', '20230602_090000.WAV',\n",
       "       '20230602_093000.WAV', '20230602_100000.WAV',\n",
       "       '20230602_103000.WAV', '20230602_110000.WAV',\n",
       "       '20230602_113000.WAV', '20230602_130000.WAV',\n",
       "       '20230603_033000.WAV', '20230603_043000.WAV',\n",
       "       '20230603_050000.WAV', '20230603_053000.WAV',\n",
       "       '20230603_060000.WAV', '20230603_063000.WAV',\n",
       "       '20230603_070000.WAV', '20230603_073000.WAV',\n",
       "       '20230603_080000.WAV', '20230603_083000.WAV',\n",
       "       '20230603_093000.WAV', '20230603_100000.WAV',\n",
       "       '20230603_103000.WAV', '20230603_110000.WAV',\n",
       "       '20230604_043000.WAV', '20230604_050000.WAV',\n",
       "       '20230604_053000.WAV', '20230604_060000.WAV',\n",
       "       '20230604_063000.WAV', '20230604_070000.WAV',\n",
       "       '20230604_073000.WAV', '20230604_080000.WAV',\n",
       "       '20230604_083000.WAV', '20230604_090000.WAV',\n",
       "       '20230604_093000.WAV', '20230604_100000.WAV',\n",
       "       '20230604_103000.WAV', '20230604_110000.WAV',\n",
       "       '20230604_113000.WAV', '20230604_120000.WAV',\n",
       "       '20230605_043000.WAV', '20230605_050000.WAV',\n",
       "       '20230605_053000.WAV', '20230605_060000.WAV',\n",
       "       '20230605_063000.WAV', '20230605_070000.WAV',\n",
       "       '20230605_073000.WAV', '20230605_080000.WAV',\n",
       "       '20230605_083000.WAV', '20230605_090000.WAV',\n",
       "       '20230605_093000.WAV', '20230605_100000.WAV',\n",
       "       '20230605_103000.WAV', '20230605_110000.WAV'], dtype=object)"
      ]
     },
     "execution_count": 11,
     "metadata": {},
     "output_type": "execute_result"
    }
   ],
   "source": [
    "recover_folder = dirpath.split('/')[-2]\n",
    "audiomoth_folder = dirpath.split('/')[-1]\n",
    "dets = pd.read_csv(f'{save_dir}/{detfile_name}.csv')\n",
    "activity = np.array([])\n",
    "activity_times = []\n",
    "activity_dates = []\n",
    "\n",
    "files = np.unique(dets['input_file'].values)\n",
    "files"
   ]
  },
  {
   "cell_type": "code",
   "execution_count": 17,
   "metadata": {},
   "outputs": [
    {
     "ename": "FileNotFoundError",
     "evalue": "[Errno 2] No such file or directory: '/Users/adityakrishna/Documents/UBNA/Symposium/Recordings/recover-20230605/UBNA_001'",
     "output_type": "error",
     "traceback": [
      "\u001b[0;31m---------------------------------------------------------------------------\u001b[0m",
      "\u001b[0;31mFileNotFoundError\u001b[0m                         Traceback (most recent call last)",
      "Cell \u001b[0;32mIn[17], line 1\u001b[0m\n\u001b[0;32m----> 1\u001b[0m \u001b[39mfor\u001b[39;00m file \u001b[39min\u001b[39;00m batdetect2_pipeline\u001b[39m.\u001b[39;49mget_files_from_dir(dirpath):\n\u001b[1;32m      2\u001b[0m     filedets \u001b[39m=\u001b[39m dets\u001b[39m.\u001b[39mloc[dets[\u001b[39m'\u001b[39m\u001b[39minput_file\u001b[39m\u001b[39m'\u001b[39m]\u001b[39m==\u001b[39mfile]\n\u001b[1;32m      3\u001b[0m     activity \u001b[39m=\u001b[39m np\u001b[39m.\u001b[39mhstack([activity, \u001b[39mlen\u001b[39m(filedets)])\n",
      "File \u001b[0;32m~/bat-detector-msds/notebooks/../src/batdt2_pipeline.py:83\u001b[0m, in \u001b[0;36mget_files_from_dir\u001b[0;34m(input_dir)\u001b[0m\n\u001b[1;32m     81\u001b[0m \u001b[39mdef\u001b[39;00m \u001b[39mget_files_from_dir\u001b[39m(input_dir):\n\u001b[1;32m     82\u001b[0m     audio_files \u001b[39m=\u001b[39m []\n\u001b[0;32m---> 83\u001b[0m     \u001b[39mfor\u001b[39;00m file \u001b[39min\u001b[39;00m \u001b[39msorted\u001b[39m(\u001b[39mlist\u001b[39;49m(Path(input_dir)\u001b[39m.\u001b[39;49miterdir())):\n\u001b[1;32m     84\u001b[0m         \u001b[39mif\u001b[39;00m (\u001b[39mlen\u001b[39m(file\u001b[39m.\u001b[39mname\u001b[39m.\u001b[39msplit(\u001b[39m'\u001b[39m\u001b[39m.\u001b[39m\u001b[39m'\u001b[39m)) \u001b[39m==\u001b[39m \u001b[39m2\u001b[39m \u001b[39mand\u001b[39;00m (file\u001b[39m.\u001b[39mname\u001b[39m.\u001b[39msplit(\u001b[39m'\u001b[39m\u001b[39m.\u001b[39m\u001b[39m'\u001b[39m)[\u001b[39m1\u001b[39m]\u001b[39m==\u001b[39m\u001b[39m\"\u001b[39m\u001b[39mWAV\u001b[39m\u001b[39m\"\u001b[39m \u001b[39mor\u001b[39;00m file\u001b[39m.\u001b[39mname\u001b[39m.\u001b[39msplit(\u001b[39m'\u001b[39m\u001b[39m.\u001b[39m\u001b[39m'\u001b[39m)[\u001b[39m1\u001b[39m]\u001b[39m==\u001b[39m\u001b[39m\"\u001b[39m\u001b[39mwav\u001b[39m\u001b[39m\"\u001b[39m)):\n\u001b[1;32m     85\u001b[0m             audio_files\u001b[39m.\u001b[39mappend(file)\n",
      "File \u001b[0;32m~/miniforge3/envs/bat_msds/lib/python3.9/pathlib.py:1160\u001b[0m, in \u001b[0;36mPath.iterdir\u001b[0;34m(self)\u001b[0m\n\u001b[1;32m   1156\u001b[0m \u001b[39mdef\u001b[39;00m \u001b[39miterdir\u001b[39m(\u001b[39mself\u001b[39m):\n\u001b[1;32m   1157\u001b[0m \u001b[39m    \u001b[39m\u001b[39m\"\"\"Iterate over the files in this directory.  Does not yield any\u001b[39;00m\n\u001b[1;32m   1158\u001b[0m \u001b[39m    result for the special paths '.' and '..'.\u001b[39;00m\n\u001b[1;32m   1159\u001b[0m \u001b[39m    \"\"\"\u001b[39;00m\n\u001b[0;32m-> 1160\u001b[0m     \u001b[39mfor\u001b[39;00m name \u001b[39min\u001b[39;00m \u001b[39mself\u001b[39;49m\u001b[39m.\u001b[39;49m_accessor\u001b[39m.\u001b[39;49mlistdir(\u001b[39mself\u001b[39;49m):\n\u001b[1;32m   1161\u001b[0m         \u001b[39mif\u001b[39;00m name \u001b[39min\u001b[39;00m {\u001b[39m'\u001b[39m\u001b[39m.\u001b[39m\u001b[39m'\u001b[39m, \u001b[39m'\u001b[39m\u001b[39m..\u001b[39m\u001b[39m'\u001b[39m}:\n\u001b[1;32m   1162\u001b[0m             \u001b[39m# Yielding a path object for these makes little sense\u001b[39;00m\n\u001b[1;32m   1163\u001b[0m             \u001b[39mcontinue\u001b[39;00m\n",
      "\u001b[0;31mFileNotFoundError\u001b[0m: [Errno 2] No such file or directory: '/Users/adityakrishna/Documents/UBNA/Symposium/Recordings/recover-20230605/UBNA_001'"
     ]
    }
   ],
   "source": [
    "for file in batdetect2_pipeline.get_files_from_dir(dirpath):\n",
    "    filedets = dets.loc[dets['input_file']==file]\n",
    "    activity = np.hstack([activity, len(filedets)])\n",
    "\n",
    "    file_dt = dt.datetime.strptime(file, \"%Y%m%d_%H%M%S.WAV\")\n",
    "\n",
    "    file_time = dt.datetime.strftime(file_dt, \"%H:%M\")\n",
    "    if (not(activity_times.__contains__(file_time))):\n",
    "        activity_times.append(file_time)\n",
    "\n",
    "    file_date = dt.datetime.strftime(file_dt, \"%m/%d/%y\")\n",
    "    if (not(activity_dates.__contains__(file_date))):\n",
    "        activity_dates.append(file_date)\n",
    "        activity_for_date = np.array([])\n",
    "\n",
    "activity_times"
   ]
  },
  {
   "cell_type": "code",
   "execution_count": null,
   "metadata": {},
   "outputs": [],
   "source": [
    "activity = activity.reshape((len(activity_dates), len(activity_times))).T\n",
    "\n",
    "plt.rcParams.update({'font.size': 16})\n",
    "plt.figure(figsize=(12, 8))\n",
    "plt.title(f\"Activity from {site_name}\", loc='left', y=1.05)\n",
    "plt.imshow(activity+1, norm=colors.LogNorm(vmin=1, vmax=10e3))\n",
    "plt.yticks(np.arange(0, len(activity_times), 2)-0.5, activity_times[::2])\n",
    "plt.xticks(np.arange(0, len(activity_dates))-0.5, activity_dates, rotation=60)\n",
    "plt.colorbar()\n",
    "if save:\n",
    "    plt.savefig(f\"{output_dir}/activity_{recover_folder}_{audiomoth_folder}.png\", bbox_inches='tight')\n",
    "plt.tight_layout()\n",
    "plt.show()"
   ]
  }
 ],
 "metadata": {
  "kernelspec": {
   "display_name": "bat_msds",
   "language": "python",
   "name": "python3"
  },
  "language_info": {
   "codemirror_mode": {
    "name": "ipython",
    "version": 3
   },
   "file_extension": ".py",
   "mimetype": "text/x-python",
   "name": "python",
   "nbconvert_exporter": "python",
   "pygments_lexer": "ipython3",
   "version": "3.9.16"
  },
  "orig_nbformat": 4
 },
 "nbformat": 4,
 "nbformat_minor": 2
}
