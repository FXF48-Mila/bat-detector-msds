{
 "cells": [
  {
   "attachments": {},
   "cell_type": "markdown",
   "metadata": {},
   "source": [
    "# Testing batdetect2 pipeline features:\n",
    "\n",
    "## **Working on features relevant to the use of this pipeline on recovered Audiomoth .wav recordings**"
   ]
  },
  {
   "attachments": {},
   "cell_type": "markdown",
   "metadata": {},
   "source": [
    "## 1) Figuring out our imports:"
   ]
  },
  {
   "attachments": {},
   "cell_type": "markdown",
   "metadata": {},
   "source": [
    "### a) Below are the imports pertaining to accessing data and metadata"
   ]
  },
  {
   "cell_type": "code",
   "execution_count": 1,
   "metadata": {},
   "outputs": [],
   "source": [
    "from pathlib import Path\n",
    "import exiftool\n",
    "import os"
   ]
  },
  {
   "attachments": {},
   "cell_type": "markdown",
   "metadata": {},
   "source": [
    "### b) Below are the imports pertaining to data manipulation"
   ]
  },
  {
   "cell_type": "code",
   "execution_count": 2,
   "metadata": {},
   "outputs": [],
   "source": [
    "import numpy as np\n",
    "import pandas as pd\n",
    "import dask.dataframe as dd"
   ]
  },
  {
   "attachments": {},
   "cell_type": "markdown",
   "metadata": {},
   "source": [
    "### c) Below are the imports pertaining to data visualization"
   ]
  },
  {
   "cell_type": "code",
   "execution_count": 3,
   "metadata": {},
   "outputs": [],
   "source": [
    "import matplotlib.pyplot as plt\n",
    "from matplotlib import colors\n",
    "import datetime as dt"
   ]
  },
  {
   "attachments": {},
   "cell_type": "markdown",
   "metadata": {},
   "source": [
    "### d) Below are the imports pertaining to the use of the MSDS pipeline"
   ]
  },
  {
   "cell_type": "code",
   "execution_count": 4,
   "metadata": {},
   "outputs": [],
   "source": [
    "import sys\n",
    "\n",
    "# append the path of the\n",
    "# parent directory\n",
    "sys.path.append('..')\n",
    "sys.path.append('../src/')\n",
    "sys.path.append('../src/models/bat_call_detector/batdetect2/')\n",
    "\n",
    "import src.batdt2_pipeline as batdetect2_pipeline"
   ]
  },
  {
   "attachments": {},
   "cell_type": "markdown",
   "metadata": {},
   "source": [
    "## 2) Initializing our required variables:"
   ]
  },
  {
   "attachments": {},
   "cell_type": "markdown",
   "metadata": {},
   "source": [
    "### a) Below we initialize our input/output directories and output pipeline csv name"
   ]
  },
  {
   "cell_type": "code",
   "execution_count": 5,
   "metadata": {},
   "outputs": [
    {
     "data": {
      "text/plain": [
       "['/Users/adityakrishna/Documents/Research/Symposium/Recordings/recover-20220828/UBNA_010',\n",
       " '../output_dir/recover-20220828/UBNA_010',\n",
       " 'batdetect2_pipeline__recover-20220828_UBNA_010']"
      ]
     },
     "execution_count": 5,
     "metadata": {},
     "output_type": "execute_result"
    }
   ],
   "source": [
    "dirpath = f\"{Path.home()}/Documents/Research/Symposium/Recordings/recover-20220828/UBNA_010\"\n",
    "\n",
    "recover_folder = dirpath.split('/')[-2]\n",
    "recover_date = recover_folder.split('-')[1]\n",
    "audiomoth_folder = dirpath.split('/')[-1]\n",
    "audiomoth_unit = audiomoth_folder.split('_')[-1]\n",
    "\n",
    "save_dir = f'../output_dir/{recover_folder}/{audiomoth_folder}'\n",
    "detfile_name = f'batdetect2_pipeline__{recover_folder}_{audiomoth_folder}'\n",
    "\n",
    "[dirpath, save_dir, detfile_name]"
   ]
  },
  {
   "attachments": {},
   "cell_type": "markdown",
   "metadata": {},
   "source": [
    "### b) Below we initialize our field records depending on what year our data is from to gather the site name"
   ]
  },
  {
   "cell_type": "code",
   "execution_count": 6,
   "metadata": {},
   "outputs": [
    {
     "data": {
      "text/plain": [
       "'Central Pond'"
      ]
     },
     "execution_count": 6,
     "metadata": {},
     "output_type": "execute_result"
    }
   ],
   "source": [
    "if str(dt.datetime.strptime(recover_date, \"%Y%m%d\").year) == \"2022\":\n",
    "    field_records = batdetect2_pipeline.get_field_records(Path(f\"../field_records/ubna_2022b.csv\"))\n",
    "if str(dt.datetime.strptime(recover_date, \"%Y%m%d\").year) == \"2023\":\n",
    "    field_records = batdetect2_pipeline.get_field_records(Path(f\"../field_records/ubna_2023.csv\"))\n",
    "\n",
    "site_name = batdetect2_pipeline.get_site_name(field_records, recover_date, audiomoth_unit)\n",
    "site_name"
   ]
  },
  {
   "attachments": {},
   "cell_type": "markdown",
   "metadata": {},
   "source": [
    "## 3) Test any main pipeline functions using the initialized variables"
   ]
  },
  {
   "attachments": {},
   "cell_type": "markdown",
   "metadata": {},
   "source": [
    "### a) Below we test-run our pipeline using the main `run_pipeline()` command in `src/batdt2_pipeline.py`"
   ]
  },
  {
   "cell_type": "code",
   "execution_count": 7,
   "metadata": {},
   "outputs": [],
   "source": [
    "### b) Below we initialize our field records depending on what year our data is from to gather the site name"
   ]
  },
  {
   "attachments": {},
   "cell_type": "markdown",
   "metadata": {},
   "source": [
    "### b) Below is the function that will be used in our pipeline to plot the activity plots; Use it to test the overall function"
   ]
  },
  {
   "cell_type": "code",
   "execution_count": 8,
   "metadata": {},
   "outputs": [],
   "source": [
    "# batdetect2_pipeline.plot_dets_as_activity_grid(dirpath, f\"{detfile_name}.csv\", save_dir, site_name, show_PST=True, save=False)"
   ]
  },
  {
   "attachments": {},
   "cell_type": "markdown",
   "metadata": {},
   "source": [
    "## 4) Develop any of the main functions below:"
   ]
  },
  {
   "attachments": {},
   "cell_type": "markdown",
   "metadata": {},
   "source": [
    "### a) Below is the code for plotting activity; it has been developed to include:\n",
    "\n",
    "- PST functionality with axis labels for UTC/PST\n",
    "- Plotting site name in title of activity\n",
    "- Aligning ticks and grid lines to feel intuitive\n",
    "- Masking values that are 0 implying there was an error collecting that time's recording"
   ]
  },
  {
   "cell_type": "code",
   "execution_count": 9,
   "metadata": {},
   "outputs": [
    {
     "name": "stdout",
     "output_type": "stream",
     "text": [
      "There are 21 audio files that passed 1st level of filtering!\n",
      "There are 21 audio files that passed 2nd level of filtering!\n"
     ]
    },
    {
     "data": {
      "image/png": "[encoded data removed]",
      "text/plain": [
       "<Figure size 1200x800 with 2 Axes>"
      ]
     },
     "metadata": {},
     "output_type": "display_data"
    }
   ],
   "source": [
    "recover_folder = dirpath.split('/')[-2]\n",
    "audiomoth_folder = dirpath.split('/')[-1]\n",
    "dets = pd.read_csv(f'{save_dir}/{detfile_name}.csv')\n",
    "activity = np.array([])\n",
    "show_PST = False\n",
    "activity_times = []\n",
    "activity_dates = []\n",
    "\n",
    "for file in batdetect2_pipeline.get_files_for_pipeline(batdetect2_pipeline.get_files_to_reference(dirpath)):\n",
    "    filedets = dets.loc[dets['input_file']==Path(file).name]\n",
    "    activity = np.hstack([activity, len(filedets)+1])\n",
    "\n",
    "    file_dt_UTC = dt.datetime.strptime(Path(file).name, \"%Y%m%d_%H%M%S.WAV\")\n",
    "\n",
    "    if show_PST:\n",
    "        if (file_dt_UTC.hour >= 7):\n",
    "            file_dt_PST = dt.datetime.strptime(f\"{file_dt_UTC.date()}_{str(file_dt_UTC.hour - 7).zfill(2)}{file_dt_UTC.minute}\", \"%Y-%m-%d_%H%M\")\n",
    "            file_time_PST = dt.datetime.strftime(file_dt_PST, \"%H:%M\")\n",
    "        else:\n",
    "            file_dt_PST = dt.datetime.strptime(f\"{file_dt_UTC.date()}_{str(24 + file_dt_UTC.hour - 7).zfill(2)}{file_dt_UTC.minute}\", \"%Y-%m-%d_%H%M\")\n",
    "            file_time_PST = dt.datetime.strftime(file_dt_PST, \"%H:%M\")\n",
    "        if (not(activity_times.__contains__(file_time_PST))):\n",
    "            activity_times.append(file_time_PST)\n",
    "    else:\n",
    "        file_time_UTC = dt.datetime.strftime(file_dt_UTC, \"%H:%M\")\n",
    "        if (not(activity_times.__contains__(file_time_UTC))):\n",
    "            activity_times.append(file_time_UTC)\n",
    "\n",
    "    file_date = dt.datetime.strftime(file_dt_UTC, \"%m/%d/%y\")\n",
    "    if (not(activity_dates.__contains__(file_date))):\n",
    "        activity_dates.append(file_date)\n",
    "\n",
    "activity = activity.reshape((len(activity_dates), len(activity_times))).T\n",
    "\n",
    "activity[1:-1:6] = 0\n",
    "activity[2:-1:6] = 0\n",
    "activity[3:-1:6] = 0\n",
    "\n",
    "masked_array_for_nodets = np.ma.masked_where(activity==0, activity)\n",
    "cmap = plt.get_cmap('viridis')\n",
    "cmap.set_bad(color='red', alpha=1.0)\n",
    "\n",
    "plt.rcParams.update({'font.size': 16})\n",
    "plt.figure(figsize=(12, 8))\n",
    "plt.title(f\"Activity from {site_name}\", loc='left', y=1.05)\n",
    "plt.imshow(masked_array_for_nodets, cmap=cmap, norm=colors.LogNorm(vmin=1, vmax=10e3))\n",
    "plt.yticks(np.arange(0, len(activity_times), 2)-0.5, activity_times[::2], rotation=30)\n",
    "plt.xticks(np.arange(0, len(activity_dates))-0.5, activity_dates, rotation=30)\n",
    "plt.ylabel('UTC Time (HH:MM)')\n",
    "plt.xlabel('Date (MM/DD/YY)')\n",
    "plt.colorbar()\n",
    "plt.tight_layout()\n",
    "plt.show()"
   ]
  },
  {
   "attachments": {},
   "cell_type": "markdown",
   "metadata": {},
   "source": [
    "### b) Below is the code for using exiftool to skip error files in our pipeline\n",
    "\n",
    "- Starting to learn how to use exiftool or PyExifTool \n",
    "- Implementing checks for error files using Audiomoth .wav metadata\n",
    "- Incorporating checks into generate_segments() function so pipeline only generates segments for valid recordings"
   ]
  },
  {
   "attachments": {},
   "cell_type": "markdown",
   "metadata": {},
   "source": [
    "#### Initialize the set of test files we need to analyze\n",
    "\n",
    "- Some of them will be error files\n",
    "- Some of them will be usable files"
   ]
  },
  {
   "cell_type": "code",
   "execution_count": 10,
   "metadata": {},
   "outputs": [
    {
     "data": {
      "text/plain": [
       "[PosixPath('/Users/adityakrishna/Documents/Research/Recordings/2023_recording_season/error_files/recover-20230616/UBNA_001/20230610_030000.WAV'),\n",
       " PosixPath('/Users/adityakrishna/Documents/Research/Recordings/2023_recording_season/error_files/recover-20230616/UBNA_001/20230610_053000.WAV'),\n",
       " PosixPath('/Users/adityakrishna/Documents/Research/Recordings/2023_recording_season/error_files/recover-20230616/UBNA_001/20230610_060000.WAV'),\n",
       " PosixPath('/Users/adityakrishna/Documents/Research/Recordings/2023_recording_season/error_files/recover-20230616/UBNA_001/20230610_063000.WAV'),\n",
       " PosixPath('/Users/adityakrishna/Documents/Research/Recordings/2023_recording_season/error_files/recover-20230616/UBNA_001/20230610_073000.WAV'),\n",
       " PosixPath('/Users/adityakrishna/Documents/Research/Recordings/2023_recording_season/error_files/recover-20230616/UBNA_001/20230610_090000.WAV')]"
      ]
     },
     "execution_count": 10,
     "metadata": {},
     "output_type": "execute_result"
    }
   ],
   "source": [
    "dirpath = f\"{Path.home()}/Documents/Research/Recordings/2023_recording_season/error_files/recover-20230616/UBNA_001\"\n",
    "files = batdetect2_pipeline.get_files_to_reference(dirpath)\n",
    "files"
   ]
  },
  {
   "attachments": {},
   "cell_type": "markdown",
   "metadata": {},
   "source": [
    "#### Print the metadata of a single Audiomoth recording"
   ]
  },
  {
   "cell_type": "code",
   "execution_count": 11,
   "metadata": {},
   "outputs": [
    {
     "data": {
      "text/plain": [
       "{'SourceFile': '/Users/adityakrishna/Documents/Research/Recordings/2023_recording_season/error_files/recover-20230616/UBNA_001/20230610_073000.WAV',\n",
       " 'ExifTool:ExifToolVersion': 12.63,\n",
       " 'File:FileName': '20230610_073000.WAV',\n",
       " 'File:Directory': '/Users/adityakrishna/Documents/Research/Recordings/2023_recording_season/error_files/recover-20230616/UBNA_001',\n",
       " 'File:FileSize': 689280488,\n",
       " 'File:FileModifyDate': '2023:06:10 00:59:54-07:00',\n",
       " 'File:FileAccessDate': '2023:06:26 07:36:00-07:00',\n",
       " 'File:FileInodeChangeDate': '2023:06:26 07:36:00-07:00',\n",
       " 'File:FilePermissions': 100644,\n",
       " 'File:FileType': 'WAV',\n",
       " 'File:FileTypeExtension': 'WAV',\n",
       " 'File:MIMEType': 'audio/x-wav',\n",
       " 'RIFF:Encoding': 1,\n",
       " 'RIFF:NumChannels': 1,\n",
       " 'RIFF:SampleRate': 192000,\n",
       " 'RIFF:AvgBytesPerSec': 384000,\n",
       " 'RIFF:BitsPerSample': 16,\n",
       " 'RIFF:Comment': 'Recorded at 07:30:00 10/06/2023 (UTC) by AudioMoth 24F319055FDF2F5B at medium gain while battery was 4.0V and temperature was 13.6C.',\n",
       " 'RIFF:Artist': 'AudioMoth 24F319055FDF2F5B',\n",
       " 'Composite:Duration': 1795.00127083333}"
      ]
     },
     "execution_count": 11,
     "metadata": {},
     "output_type": "execute_result"
    }
   ],
   "source": [
    "exiftool.ExifToolHelper().get_metadata(files)[4]"
   ]
  },
  {
   "attachments": {},
   "cell_type": "markdown",
   "metadata": {},
   "source": [
    "The RIFF:Comment tag seems important and unique to each error file.\n",
    "\n",
    "- 488-byte ones say the recording was stopped because of microphone change.\n",
    "- Standard size ones with unusable data say the recording was made using an external microphone.\n",
    "- Standard size ones with usuable data have no mention of a microphone."
   ]
  },
  {
   "attachments": {},
   "cell_type": "markdown",
   "metadata": {},
   "source": [
    "#### So let's look for NO mention of a \"mircophone\" in the RIFF:Comment and filter our files based on this."
   ]
  },
  {
   "cell_type": "code",
   "execution_count": 12,
   "metadata": {},
   "outputs": [
    {
     "data": {
      "text/plain": [
       "array(['/Users/adityakrishna/Documents/Research/Recordings/2023_recording_season/error_files/recover-20230616/UBNA_001/20230610_073000.WAV',\n",
       "       '/Users/adityakrishna/Documents/Research/Recordings/2023_recording_season/error_files/recover-20230616/UBNA_001/20230610_090000.WAV'],\n",
       "      dtype=object)"
      ]
     },
     "execution_count": 12,
     "metadata": {},
     "output_type": "execute_result"
    }
   ],
   "source": [
    "good_files=[]\n",
    "comments = exiftool.ExifToolHelper().get_tags(files, tags='RIFF:Comment')\n",
    "df_comments = pd.DataFrame(comments)\n",
    "good_files = df_comments.loc[~df_comments['RIFF:Comment'].str.contains(\"microphone\")]['SourceFile'].values\n",
    "good_files"
   ]
  },
  {
   "attachments": {},
   "cell_type": "markdown",
   "metadata": {},
   "source": [
    "#### Our filter worked and our pipeline ran on the good_files of `recover-20230616/UBNA_001` with no error\n",
    "\n",
    "### Now we need to make changes in our plotting to plot data generated from error sessions"
   ]
  },
  {
   "attachments": {},
   "cell_type": "markdown",
   "metadata": {},
   "source": [
    "#### 1) Import `recover-20230616_UBNA_001 detections"
   ]
  },
  {
   "cell_type": "code",
   "execution_count": 13,
   "metadata": {},
   "outputs": [
    {
     "data": {
      "text/plain": [
       "['/Users/adityakrishna/Documents/Research/Recordings/2023_recording_season/error_files/recover-20230616/UBNA_001',\n",
       " '../output_dir/recover-20230616/UBNA_001',\n",
       " 'batdetect2_pipeline__recover-20230616_UBNA_001']"
      ]
     },
     "execution_count": 13,
     "metadata": {},
     "output_type": "execute_result"
    }
   ],
   "source": [
    "dirpath = f\"{Path.home()}/Documents/Research/Recordings/2023_recording_season/error_files/recover-20230616/UBNA_001\"\n",
    "\n",
    "recover_folder = dirpath.split('/')[-2]\n",
    "recover_date = recover_folder.split('-')[1]\n",
    "audiomoth_folder = dirpath.split('/')[-1]\n",
    "audiomoth_unit = audiomoth_folder.split('_')[-1]\n",
    "\n",
    "save_dir = f'../output_dir/{recover_folder}/{audiomoth_folder}'\n",
    "detfile_name = f'batdetect2_pipeline__{recover_folder}_{audiomoth_folder}'\n",
    "[dirpath, save_dir, detfile_name]"
   ]
  },
  {
   "cell_type": "code",
   "execution_count": 14,
   "metadata": {},
   "outputs": [
    {
     "data": {
      "text/html": [
       "<div>\n",
       "<style scoped>\n",
       "    .dataframe tbody tr th:only-of-type {\n",
       "        vertical-align: middle;\n",
       "    }\n",
       "\n",
       "    .dataframe tbody tr th {\n",
       "        vertical-align: top;\n",
       "    }\n",
       "\n",
       "    .dataframe thead th {\n",
       "        text-align: right;\n",
       "    }\n",
       "</style>\n",
       "<table border=\"1\" class=\"dataframe\">\n",
       "  <thead>\n",
       "    <tr style=\"text-align: right;\">\n",
       "      <th></th>\n",
       "      <th>start_time</th>\n",
       "      <th>end_time</th>\n",
       "      <th>low_freq</th>\n",
       "      <th>high_freq</th>\n",
       "      <th>detection_confidence</th>\n",
       "      <th>event</th>\n",
       "      <th>input_file</th>\n",
       "    </tr>\n",
       "  </thead>\n",
       "  <tbody>\n",
       "    <tr>\n",
       "      <th>0</th>\n",
       "      <td>550.2155</td>\n",
       "      <td>550.2263</td>\n",
       "      <td>44375.0</td>\n",
       "      <td>52219.0</td>\n",
       "      <td>0.535</td>\n",
       "      <td>Echolocation</td>\n",
       "      <td>20230610_073000.WAV</td>\n",
       "    </tr>\n",
       "    <tr>\n",
       "      <th>1</th>\n",
       "      <td>551.2365</td>\n",
       "      <td>551.2458</td>\n",
       "      <td>43515.0</td>\n",
       "      <td>58293.0</td>\n",
       "      <td>0.503</td>\n",
       "      <td>Echolocation</td>\n",
       "      <td>20230610_073000.WAV</td>\n",
       "    </tr>\n",
       "    <tr>\n",
       "      <th>2</th>\n",
       "      <td>551.3975</td>\n",
       "      <td>551.4069</td>\n",
       "      <td>42656.0</td>\n",
       "      <td>64373.0</td>\n",
       "      <td>0.576</td>\n",
       "      <td>Echolocation</td>\n",
       "      <td>20230610_073000.WAV</td>\n",
       "    </tr>\n",
       "    <tr>\n",
       "      <th>3</th>\n",
       "      <td>551.4845</td>\n",
       "      <td>551.4939</td>\n",
       "      <td>42656.0</td>\n",
       "      <td>60371.0</td>\n",
       "      <td>0.505</td>\n",
       "      <td>Echolocation</td>\n",
       "      <td>20230610_073000.WAV</td>\n",
       "    </tr>\n",
       "    <tr>\n",
       "      <th>4</th>\n",
       "      <td>551.5725</td>\n",
       "      <td>551.5828</td>\n",
       "      <td>42656.0</td>\n",
       "      <td>67232.0</td>\n",
       "      <td>0.589</td>\n",
       "      <td>Echolocation</td>\n",
       "      <td>20230610_073000.WAV</td>\n",
       "    </tr>\n",
       "    <tr>\n",
       "      <th>...</th>\n",
       "      <td>...</td>\n",
       "      <td>...</td>\n",
       "      <td>...</td>\n",
       "      <td>...</td>\n",
       "      <td>...</td>\n",
       "      <td>...</td>\n",
       "      <td>...</td>\n",
       "    </tr>\n",
       "    <tr>\n",
       "      <th>33637</th>\n",
       "      <td>1720.3845</td>\n",
       "      <td>1720.3935</td>\n",
       "      <td>45234.0</td>\n",
       "      <td>57293.0</td>\n",
       "      <td>0.571</td>\n",
       "      <td>Echolocation</td>\n",
       "      <td>20230615_053000.WAV</td>\n",
       "    </tr>\n",
       "    <tr>\n",
       "      <th>33638</th>\n",
       "      <td>1720.5645</td>\n",
       "      <td>1720.5743</td>\n",
       "      <td>46093.0</td>\n",
       "      <td>53594.0</td>\n",
       "      <td>0.582</td>\n",
       "      <td>Echolocation</td>\n",
       "      <td>20230615_053000.WAV</td>\n",
       "    </tr>\n",
       "    <tr>\n",
       "      <th>33639</th>\n",
       "      <td>1720.7535</td>\n",
       "      <td>1720.7619</td>\n",
       "      <td>45234.0</td>\n",
       "      <td>55072.0</td>\n",
       "      <td>0.569</td>\n",
       "      <td>Echolocation</td>\n",
       "      <td>20230615_053000.WAV</td>\n",
       "    </tr>\n",
       "    <tr>\n",
       "      <th>33640</th>\n",
       "      <td>1720.9335</td>\n",
       "      <td>1720.9405</td>\n",
       "      <td>46093.0</td>\n",
       "      <td>60479.0</td>\n",
       "      <td>0.628</td>\n",
       "      <td>Echolocation</td>\n",
       "      <td>20230615_053000.WAV</td>\n",
       "    </tr>\n",
       "    <tr>\n",
       "      <th>33641</th>\n",
       "      <td>1720.9865</td>\n",
       "      <td>1720.9944</td>\n",
       "      <td>47812.0</td>\n",
       "      <td>63699.0</td>\n",
       "      <td>0.584</td>\n",
       "      <td>Echolocation</td>\n",
       "      <td>20230615_053000.WAV</td>\n",
       "    </tr>\n",
       "  </tbody>\n",
       "</table>\n",
       "<p>33642 rows × 7 columns</p>\n",
       "</div>"
      ],
      "text/plain": [
       "       start_time   end_time  low_freq  high_freq  detection_confidence  \\\n",
       "0        550.2155   550.2263   44375.0    52219.0                 0.535   \n",
       "1        551.2365   551.2458   43515.0    58293.0                 0.503   \n",
       "2        551.3975   551.4069   42656.0    64373.0                 0.576   \n",
       "3        551.4845   551.4939   42656.0    60371.0                 0.505   \n",
       "4        551.5725   551.5828   42656.0    67232.0                 0.589   \n",
       "...           ...        ...       ...        ...                   ...   \n",
       "33637   1720.3845  1720.3935   45234.0    57293.0                 0.571   \n",
       "33638   1720.5645  1720.5743   46093.0    53594.0                 0.582   \n",
       "33639   1720.7535  1720.7619   45234.0    55072.0                 0.569   \n",
       "33640   1720.9335  1720.9405   46093.0    60479.0                 0.628   \n",
       "33641   1720.9865  1720.9944   47812.0    63699.0                 0.584   \n",
       "\n",
       "              event           input_file  \n",
       "0      Echolocation  20230610_073000.WAV  \n",
       "1      Echolocation  20230610_073000.WAV  \n",
       "2      Echolocation  20230610_073000.WAV  \n",
       "3      Echolocation  20230610_073000.WAV  \n",
       "4      Echolocation  20230610_073000.WAV  \n",
       "...             ...                  ...  \n",
       "33637  Echolocation  20230615_053000.WAV  \n",
       "33638  Echolocation  20230615_053000.WAV  \n",
       "33639  Echolocation  20230615_053000.WAV  \n",
       "33640  Echolocation  20230615_053000.WAV  \n",
       "33641  Echolocation  20230615_053000.WAV  \n",
       "\n",
       "[33642 rows x 7 columns]"
      ]
     },
     "execution_count": 14,
     "metadata": {},
     "output_type": "execute_result"
    }
   ],
   "source": [
    "dets = pd.read_csv(f'{save_dir}/{detfile_name}.csv')\n",
    "dets"
   ]
  },
  {
   "attachments": {},
   "cell_type": "markdown",
   "metadata": {},
   "source": [
    "### For distinguishing files with 0 dets and files that have error, we created 2 sets:\n",
    "- 1 for the audio files representative of the times the Audiomoth was ON.\n",
    "- 1 for the audio files representative of the times that the batdetect2 pipeline can run on (i.e. have no error)"
   ]
  },
  {
   "cell_type": "code",
   "execution_count": 15,
   "metadata": {},
   "outputs": [
    {
     "name": "stdout",
     "output_type": "stream",
     "text": [
      "There are 6 audio files that passed 1st level of filtering!\n",
      "There are 2 audio files that passed 2nd level of filtering!\n"
     ]
    },
    {
     "data": {
      "text/plain": [
       "[array([PosixPath('/Users/adityakrishna/Documents/Research/Recordings/2023_recording_season/error_files/recover-20230616/UBNA_001/20230610_073000.WAV'),\n",
       "        PosixPath('/Users/adityakrishna/Documents/Research/Recordings/2023_recording_season/error_files/recover-20230616/UBNA_001/20230610_090000.WAV')],\n",
       "       dtype=object),\n",
       " [PosixPath('/Users/adityakrishna/Documents/Research/Recordings/2023_recording_season/error_files/recover-20230616/UBNA_001/20230610_030000.WAV'),\n",
       "  PosixPath('/Users/adityakrishna/Documents/Research/Recordings/2023_recording_season/error_files/recover-20230616/UBNA_001/20230610_053000.WAV'),\n",
       "  PosixPath('/Users/adityakrishna/Documents/Research/Recordings/2023_recording_season/error_files/recover-20230616/UBNA_001/20230610_060000.WAV'),\n",
       "  PosixPath('/Users/adityakrishna/Documents/Research/Recordings/2023_recording_season/error_files/recover-20230616/UBNA_001/20230610_063000.WAV'),\n",
       "  PosixPath('/Users/adityakrishna/Documents/Research/Recordings/2023_recording_season/error_files/recover-20230616/UBNA_001/20230610_073000.WAV'),\n",
       "  PosixPath('/Users/adityakrishna/Documents/Research/Recordings/2023_recording_season/error_files/recover-20230616/UBNA_001/20230610_090000.WAV')]]"
      ]
     },
     "execution_count": 15,
     "metadata": {},
     "output_type": "execute_result"
    }
   ],
   "source": [
    "activity = np.array([])\n",
    "activity_times = []\n",
    "activity_dates = []\n",
    "good_audio_files = batdetect2_pipeline.get_files_for_pipeline(batdetect2_pipeline.get_files_to_reference(dirpath))\n",
    "ref_audio_files = batdetect2_pipeline.get_files_to_reference(dirpath)\n",
    "\n",
    "[good_audio_files, ref_audio_files]"
   ]
  },
  {
   "attachments": {},
   "cell_type": "markdown",
   "metadata": {},
   "source": [
    "#### In our activity matrices:\n",
    "- If the reference file is a good audio file, we store the grid value as the number of detections + 1\n",
    "- If the reference fule is not a good audio file, we store the grid value as 0.\n",
    "\n",
    "#### By masking all 0 values with red, our matrices show red when there has been an error recording data for the time."
   ]
  },
  {
   "cell_type": "code",
   "execution_count": 16,
   "metadata": {},
   "outputs": [
    {
     "data": {
      "text/plain": [
       "array([ 0.,  0.,  0.,  0., 24.,  1.])"
      ]
     },
     "execution_count": 16,
     "metadata": {},
     "output_type": "execute_result"
    }
   ],
   "source": [
    "for file in ref_audio_files:\n",
    "    filedets = dets.loc[dets['input_file']==(file).name]\n",
    "    if file in good_audio_files:\n",
    "        activity = np.hstack([activity, len(filedets) + 1])\n",
    "    else:\n",
    "        activity = np.hstack([activity, 0])\n",
    "\n",
    "activity"
   ]
  },
  {
   "cell_type": "markdown",
   "metadata": {},
   "source": [
    "### c) Need to rework `get_files_for_pipeline()` and `get_files_to_reference()` to use `CONFIG.TXT`"
   ]
  },
  {
   "cell_type": "code",
   "execution_count": 17,
   "metadata": {},
   "outputs": [
    {
     "data": {
      "text/html": [
       "<div>\n",
       "<style scoped>\n",
       "    .dataframe tbody tr th:only-of-type {\n",
       "        vertical-align: middle;\n",
       "    }\n",
       "\n",
       "    .dataframe tbody tr th {\n",
       "        vertical-align: top;\n",
       "    }\n",
       "\n",
       "    .dataframe thead th {\n",
       "        text-align: right;\n",
       "    }\n",
       "</style>\n",
       "<table border=\"1\" class=\"dataframe\">\n",
       "  <thead>\n",
       "    <tr style=\"text-align: right;\">\n",
       "      <th>Device ID</th>\n",
       "      <th>Firmware</th>\n",
       "      <th>Time zone</th>\n",
       "      <th>Sample rate (Hz)</th>\n",
       "      <th>Gain</th>\n",
       "      <th>Sleep duration (s)</th>\n",
       "      <th>Recording duration (s)</th>\n",
       "      <th>Active recording periods</th>\n",
       "      <th>Recording period 1</th>\n",
       "      <th>Earliest recording time</th>\n",
       "      <th>Latest recording time</th>\n",
       "      <th>...</th>\n",
       "      <th>Enable LED</th>\n",
       "      <th>Enable low-voltage cut-off</th>\n",
       "      <th>Enable battery level indication</th>\n",
       "      <th>Always require acoustic chime</th>\n",
       "      <th>Use daily folder for WAV files</th>\n",
       "      <th>Disable 48Hz DC blocking filter</th>\n",
       "      <th>Enable energy saver mode</th>\n",
       "      <th>Enable low gain range</th>\n",
       "      <th>Enable magnetic switch</th>\n",
       "      <th>Enable GPS time setting</th>\n",
       "    </tr>\n",
       "  </thead>\n",
       "  <tbody>\n",
       "    <tr>\n",
       "      <th>24F319055FDF2F5B</th>\n",
       "      <td>AudioMoth-Firmware-Basic (1.8.1)</td>\n",
       "      <td>UTC</td>\n",
       "      <td>192000</td>\n",
       "      <td>Medium</td>\n",
       "      <td>5</td>\n",
       "      <td>1795</td>\n",
       "      <td>1</td>\n",
       "      <td>03:00 - 13:30 (UTC)</td>\n",
       "      <td>---------- --:--:--</td>\n",
       "      <td>---------- --:--:--</td>\n",
       "      <td>...</td>\n",
       "      <td>Yes</td>\n",
       "      <td>Yes</td>\n",
       "      <td>Yes</td>\n",
       "      <td>No</td>\n",
       "      <td>No</td>\n",
       "      <td>No</td>\n",
       "      <td>No</td>\n",
       "      <td>No</td>\n",
       "      <td>No</td>\n",
       "      <td>No</td>\n",
       "    </tr>\n",
       "  </tbody>\n",
       "</table>\n",
       "<p>1 rows × 24 columns</p>\n",
       "</div>"
      ],
      "text/plain": [
       "Device ID                                                Firmware Time zone  \\\n",
       "24F319055FDF2F5B                 AudioMoth-Firmware-Basic (1.8.1)       UTC   \n",
       "\n",
       "Device ID                       Sample rate (Hz)    Gain Sleep duration (s)  \\\n",
       "24F319055FDF2F5B                          192000  Medium                  5   \n",
       "\n",
       "Device ID                       Recording duration (s)  \\\n",
       "24F319055FDF2F5B                                  1795   \n",
       "\n",
       "Device ID                       Active recording periods   Recording period 1  \\\n",
       "24F319055FDF2F5B                                       1  03:00 - 13:30 (UTC)   \n",
       "\n",
       "Device ID                       Earliest recording time Latest recording time  \\\n",
       "24F319055FDF2F5B                    ---------- --:--:--   ---------- --:--:--   \n",
       "\n",
       "Device ID                        ... Enable LED Enable low-voltage cut-off  \\\n",
       "24F319055FDF2F5B                 ...        Yes                        Yes   \n",
       "\n",
       "Device ID                       Enable battery level indication  \\\n",
       "24F319055FDF2F5B                                            Yes   \n",
       "\n",
       "Device ID                       Always require acoustic chime  \\\n",
       "24F319055FDF2F5B                                           No   \n",
       "\n",
       "Device ID                       Use daily folder for WAV files  \\\n",
       "24F319055FDF2F5B                                            No   \n",
       "\n",
       "Device ID                       Disable 48Hz DC blocking filter  \\\n",
       "24F319055FDF2F5B                                             No   \n",
       "\n",
       "Device ID                       Enable energy saver mode  \\\n",
       "24F319055FDF2F5B                                      No   \n",
       "\n",
       "Device ID                       Enable low gain range Enable magnetic switch  \\\n",
       "24F319055FDF2F5B                                   No                     No   \n",
       "\n",
       "Device ID                       Enable GPS time setting  \n",
       "24F319055FDF2F5B                                     No  \n",
       "\n",
       "[1 rows x 24 columns]"
      ]
     },
     "execution_count": 17,
     "metadata": {},
     "output_type": "execute_result"
    }
   ],
   "source": [
    "config_path = f'{dirpath}/CONFIG.TXT'\n",
    "config_details = pd.read_csv(config_path, header=0, index_col=0, sep=\" : \", engine='python').transpose()\n",
    "config_details.columns = config_details.columns.str.strip()\n",
    "recording_period = config_details['Recording period 1'].values[0]\n",
    "period_tokens = recording_period.split(' ')\n",
    "config_details"
   ]
  },
  {
   "cell_type": "code",
   "execution_count": 18,
   "metadata": {},
   "outputs": [],
   "source": [
    "def get_dates_of_deployment(input_dir):\n",
    "    dates = set()\n",
    "    for filepath in list(Path(input_dir).iterdir()):\n",
    "        filename = filepath.name\n",
    "        if (filename.split('.')[1] == \"WAV\" or filename.split('.')[1] == \"wav\"):\n",
    "            file_dt = dt.datetime.strptime(filename, \"%Y%m%d_%H%M%S.WAV\")\n",
    "            dates.add(dt.datetime.strftime(file_dt, '%Y%m%d'))\n",
    "        \n",
    "    dates = sorted(list(dates))\n",
    "    return dates\n",
    "\n",
    "def get_recording_period(input_dir):\n",
    "    config_path = f'{input_dir}/CONFIG.TXT'\n",
    "    config_details = pd.read_csv(config_path, header=0, index_col=0, sep=\" : \", engine='python').transpose()\n",
    "    config_details.columns = config_details.columns.str.strip()\n",
    "    recording_period = config_details['Recording period 1'].values[0]\n",
    "    period_tokens = recording_period.split(' ')\n",
    "\n",
    "    return period_tokens[0], period_tokens[2]\n",
    "\n",
    "def get_files_for_reference(input_dir):\n",
    "    start_time, end_time = get_recording_period(input_dir)\n",
    "    dates = get_dates_of_deployment(input_dir)\n",
    "\n",
    "    reference_filepaths = []\n",
    "    for date in dates:\n",
    "        start_dt = dt.datetime.strptime(f'{date}_{start_time}:00', \"%Y%m%d_%H:%M:%S\")\n",
    "        if (end_time == '24:00'):\n",
    "            end_time = '23:59'\n",
    "        end_dt = dt.datetime.strptime(f'{date}_{end_time}:00', \"%Y%m%d_%H:%M:%S\")\n",
    "\n",
    "        cur_dt = start_dt\n",
    "        while cur_dt < end_dt:\n",
    "            filepath = f'{input_dir}/{dt.datetime.strftime(cur_dt, \"%Y%m%d_%H%M%S.WAV\")}'\n",
    "            if (os.path.exists(file)):\n",
    "                reference_filepaths += [Path(filepath)]\n",
    "\n",
    "            if (cur_dt.minute < 30):\n",
    "                new_min = str(cur_dt.minute + 30).zfill(2)\n",
    "                new_hour = str(cur_dt.hour).zfill(2)\n",
    "            else:\n",
    "                new_min = str(cur_dt.minute - 30).zfill(2)\n",
    "                new_hour = str(cur_dt.hour + 1).zfill(2)\n",
    "            cur_time = f'{new_hour}:{new_min}'\n",
    "            if (cur_time == '24:00'):\n",
    "                cur_time = '23:59'\n",
    "            cur_dt = dt.datetime.strptime(f'{date}_{cur_time}:00', \"%Y%m%d_%H:%M:%S\")\n",
    "\n",
    "    return reference_filepaths\n",
    "\n",
    "def get_files_for_pipeline(reference_filepaths):\n",
    "\n",
    "    audio_files = []\n",
    "    good_audio_files = []\n",
    "    for file in reference_filepaths:\n",
    "        if (os.path.exists(file) and not(os.stat(file).st_size == 0)):\n",
    "            audio_files.append(file)\n",
    "        \n",
    "    comments = exiftool.ExifToolHelper().get_tags(audio_files, tags='RIFF:Comment')\n",
    "    df_comments = pd.DataFrame(comments)\n",
    "    print(f\"There are {len(audio_files)} audio files that passed 1st level of filtering!\")\n",
    "    good_audio_files = df_comments.loc[~df_comments['RIFF:Comment'].str.contains(\"microphone\")]['SourceFile'].values\n",
    "\n",
    "    for i in range(len(good_audio_files)):\n",
    "        good_audio_files[i] = Path(good_audio_files[i])\n",
    "\n",
    "    print(f\"There are {len(good_audio_files)} audio files that passed 2nd level of filtering!\")\n",
    "                \n",
    "    return good_audio_files"
   ]
  },
  {
   "cell_type": "code",
   "execution_count": 19,
   "metadata": {},
   "outputs": [],
   "source": [
    "ref_audio_files = get_files_for_reference(dirpath)"
   ]
  },
  {
   "cell_type": "code",
   "execution_count": 20,
   "metadata": {},
   "outputs": [
    {
     "name": "stdout",
     "output_type": "stream",
     "text": [
      "There are 6 audio files that passed 1st level of filtering!\n",
      "There are 2 audio files that passed 2nd level of filtering!\n"
     ]
    }
   ],
   "source": [
    "good_audio_files = get_files_for_pipeline(ref_audio_files)"
   ]
  },
  {
   "cell_type": "markdown",
   "metadata": {},
   "source": [
    "### d) Using `dask.dataframe` to concatenate all generated detections into 1 large `pandas.dataframe`."
   ]
  },
  {
   "cell_type": "code",
   "execution_count": 23,
   "metadata": {},
   "outputs": [],
   "source": [
    "df = dd.read_csv(\"../output_dir/recover-2023*/UBNA_00[1]/*.csv\")\n",
    "# convert to pandas via\n",
    "df = df.compute()"
   ]
  },
  {
   "cell_type": "code",
   "execution_count": 24,
   "metadata": {},
   "outputs": [
    {
     "data": {
      "text/html": [
       "<div>\n",
       "<style scoped>\n",
       "    .dataframe tbody tr th:only-of-type {\n",
       "        vertical-align: middle;\n",
       "    }\n",
       "\n",
       "    .dataframe tbody tr th {\n",
       "        vertical-align: top;\n",
       "    }\n",
       "\n",
       "    .dataframe thead th {\n",
       "        text-align: right;\n",
       "    }\n",
       "</style>\n",
       "<table border=\"1\" class=\"dataframe\">\n",
       "  <thead>\n",
       "    <tr style=\"text-align: right;\">\n",
       "      <th></th>\n",
       "      <th>start_time</th>\n",
       "      <th>end_time</th>\n",
       "      <th>low_freq</th>\n",
       "      <th>high_freq</th>\n",
       "      <th>detection_confidence</th>\n",
       "      <th>event</th>\n",
       "      <th>input_file</th>\n",
       "    </tr>\n",
       "  </thead>\n",
       "  <tbody>\n",
       "    <tr>\n",
       "      <th>0</th>\n",
       "      <td>162.4855</td>\n",
       "      <td>162.4921</td>\n",
       "      <td>46953.0</td>\n",
       "      <td>56985.0</td>\n",
       "      <td>0.632</td>\n",
       "      <td>Echolocation</td>\n",
       "      <td>20230531_043000.WAV</td>\n",
       "    </tr>\n",
       "    <tr>\n",
       "      <th>1</th>\n",
       "      <td>164.9085</td>\n",
       "      <td>164.9138</td>\n",
       "      <td>44375.0</td>\n",
       "      <td>52060.0</td>\n",
       "      <td>0.528</td>\n",
       "      <td>Echolocation</td>\n",
       "      <td>20230531_043000.WAV</td>\n",
       "    </tr>\n",
       "    <tr>\n",
       "      <th>2</th>\n",
       "      <td>168.0525</td>\n",
       "      <td>168.0585</td>\n",
       "      <td>46953.0</td>\n",
       "      <td>57225.0</td>\n",
       "      <td>0.598</td>\n",
       "      <td>Echolocation</td>\n",
       "      <td>20230531_043000.WAV</td>\n",
       "    </tr>\n",
       "    <tr>\n",
       "      <th>3</th>\n",
       "      <td>168.9195</td>\n",
       "      <td>168.9253</td>\n",
       "      <td>47812.0</td>\n",
       "      <td>58804.0</td>\n",
       "      <td>0.581</td>\n",
       "      <td>Echolocation</td>\n",
       "      <td>20230531_043000.WAV</td>\n",
       "    </tr>\n",
       "    <tr>\n",
       "      <th>4</th>\n",
       "      <td>169.3145</td>\n",
       "      <td>169.3201</td>\n",
       "      <td>46953.0</td>\n",
       "      <td>57417.0</td>\n",
       "      <td>0.629</td>\n",
       "      <td>Echolocation</td>\n",
       "      <td>20230531_043000.WAV</td>\n",
       "    </tr>\n",
       "    <tr>\n",
       "      <th>...</th>\n",
       "      <td>...</td>\n",
       "      <td>...</td>\n",
       "      <td>...</td>\n",
       "      <td>...</td>\n",
       "      <td>...</td>\n",
       "      <td>...</td>\n",
       "      <td>...</td>\n",
       "    </tr>\n",
       "    <tr>\n",
       "      <th>114997</th>\n",
       "      <td>1794.7345</td>\n",
       "      <td>1794.7395</td>\n",
       "      <td>41796.0</td>\n",
       "      <td>77537.0</td>\n",
       "      <td>0.532</td>\n",
       "      <td>Echolocation</td>\n",
       "      <td>20230628_073000.WAV</td>\n",
       "    </tr>\n",
       "    <tr>\n",
       "      <th>114998</th>\n",
       "      <td>1794.7895</td>\n",
       "      <td>1794.7945</td>\n",
       "      <td>42656.0</td>\n",
       "      <td>81150.0</td>\n",
       "      <td>0.537</td>\n",
       "      <td>Echolocation</td>\n",
       "      <td>20230628_073000.WAV</td>\n",
       "    </tr>\n",
       "    <tr>\n",
       "      <th>114999</th>\n",
       "      <td>1794.8545</td>\n",
       "      <td>1794.8599</td>\n",
       "      <td>41796.0</td>\n",
       "      <td>74969.0</td>\n",
       "      <td>0.530</td>\n",
       "      <td>Echolocation</td>\n",
       "      <td>20230628_073000.WAV</td>\n",
       "    </tr>\n",
       "    <tr>\n",
       "      <th>115000</th>\n",
       "      <td>1794.9245</td>\n",
       "      <td>1794.9293</td>\n",
       "      <td>41796.0</td>\n",
       "      <td>69323.0</td>\n",
       "      <td>0.522</td>\n",
       "      <td>Echolocation</td>\n",
       "      <td>20230628_073000.WAV</td>\n",
       "    </tr>\n",
       "    <tr>\n",
       "      <th>115001</th>\n",
       "      <td>1794.9715</td>\n",
       "      <td>1794.9762</td>\n",
       "      <td>42656.0</td>\n",
       "      <td>66448.0</td>\n",
       "      <td>0.553</td>\n",
       "      <td>Echolocation</td>\n",
       "      <td>20230628_073000.WAV</td>\n",
       "    </tr>\n",
       "  </tbody>\n",
       "</table>\n",
       "<p>207749 rows × 7 columns</p>\n",
       "</div>"
      ],
      "text/plain": [
       "        start_time   end_time  low_freq  high_freq  detection_confidence  \\\n",
       "0         162.4855   162.4921   46953.0    56985.0                 0.632   \n",
       "1         164.9085   164.9138   44375.0    52060.0                 0.528   \n",
       "2         168.0525   168.0585   46953.0    57225.0                 0.598   \n",
       "3         168.9195   168.9253   47812.0    58804.0                 0.581   \n",
       "4         169.3145   169.3201   46953.0    57417.0                 0.629   \n",
       "...            ...        ...       ...        ...                   ...   \n",
       "114997   1794.7345  1794.7395   41796.0    77537.0                 0.532   \n",
       "114998   1794.7895  1794.7945   42656.0    81150.0                 0.537   \n",
       "114999   1794.8545  1794.8599   41796.0    74969.0                 0.530   \n",
       "115000   1794.9245  1794.9293   41796.0    69323.0                 0.522   \n",
       "115001   1794.9715  1794.9762   42656.0    66448.0                 0.553   \n",
       "\n",
       "               event           input_file  \n",
       "0       Echolocation  20230531_043000.WAV  \n",
       "1       Echolocation  20230531_043000.WAV  \n",
       "2       Echolocation  20230531_043000.WAV  \n",
       "3       Echolocation  20230531_043000.WAV  \n",
       "4       Echolocation  20230531_043000.WAV  \n",
       "...              ...                  ...  \n",
       "114997  Echolocation  20230628_073000.WAV  \n",
       "114998  Echolocation  20230628_073000.WAV  \n",
       "114999  Echolocation  20230628_073000.WAV  \n",
       "115000  Echolocation  20230628_073000.WAV  \n",
       "115001  Echolocation  20230628_073000.WAV  \n",
       "\n",
       "[207749 rows x 7 columns]"
      ]
     },
     "execution_count": 24,
     "metadata": {},
     "output_type": "execute_result"
    }
   ],
   "source": [
    "df"
   ]
  }
 ],
 "metadata": {
  "kernelspec": {
   "display_name": "bat_msds",
   "language": "python",
   "name": "python3"
  },
  "language_info": {
   "codemirror_mode": {
    "name": "ipython",
    "version": 3
   },
   "file_extension": ".py",
   "mimetype": "text/x-python",
   "name": "python",
   "nbconvert_exporter": "python",
   "pygments_lexer": "ipython3",
   "version": "3.9.16"
  },
  "orig_nbformat": 4
 },
 "nbformat": 4,
 "nbformat_minor": 2
}
